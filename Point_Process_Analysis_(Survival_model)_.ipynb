{
  "nbformat": 4,
  "nbformat_minor": 0,
  "metadata": {
    "colab": {
      "provenance": []
    },
    "kernelspec": {
      "name": "python3",
      "display_name": "Python 3"
    },
    "language_info": {
      "name": "python"
    }
  },
  "cells": [
    {
      "cell_type": "markdown",
      "source": [
        "### This Notebook is all about point processes. Throughout this sheet i will slowly increase the complexity of analysis of point processes. The datasets used are synthetic datasets of patients and their visits to the hospital. I will start with a simple survival model of an event happening once (the second doctors visit). I will then consider a process with events that can happen multiple times. Finally I will also be considering covariates that vary with time."
      ],
      "metadata": {
        "id": "jQRF0_vEadJi"
      }
    },
    {
      "cell_type": "code",
      "execution_count": 1,
      "metadata": {
        "id": "FM3dNy-3Ye3f"
      },
      "outputs": [],
      "source": [
        "import numpy as np\n",
        "import matplotlib.pyplot as plt\n",
        "import pandas as pd"
      ]
    },
    {
      "cell_type": "code",
      "execution_count": 2,
      "metadata": {
        "id": "BqDQfq_YYe3m"
      },
      "outputs": [],
      "source": [
        "def prepend_print(df):\n",
        "    s = str(df)\n",
        "    lines = s.splitlines()\n",
        "    print(\"# \"+\"\\n# \".join(lines))"
      ]
    },
    {
      "cell_type": "markdown",
      "metadata": {
        "id": "pmnYO6DiYe3o"
      },
      "source": [
        "#  Load and visualize the data\n",
        "\n",
        "Load the entire synthetic data of patients info.\n",
        "Create a scatterplot of the point process data for the first 10 customers ($\\leq$ 10).\n",
        "Plot the patient id on the y-axis and time on the x-axis. Plot a dot whenever that patients visits the doctor."
      ]
    },
    {
      "cell_type": "code",
      "execution_count": 6,
      "metadata": {
        "id": "mjapyzBsYe3t"
      },
      "outputs": [],
      "source": [
        "visits_large = pd.read_csv(\"visits.csv\")\n",
        "patients_large = pd.read_csv(\"patients.csv\")"
      ]
    },
    {
      "cell_type": "code",
      "execution_count": 9,
      "metadata": {
        "id": "DhvcnbsVYe3w"
      },
      "outputs": [],
      "source": [
        "# small dataset used for demo\n",
        "patients_small = patients_large.head(10)\n",
        "df_time_small = visits_large[visits_large.patient <10]"
      ]
    },
    {
      "cell_type": "code",
      "execution_count": 10,
      "metadata": {
        "id": "3Y4pcuWNYe30",
        "outputId": "260fa829-8cf9-410d-b4fe-eb26b570d791",
        "colab": {
          "base_uri": "https://localhost:8080/",
          "height": 735
        }
      },
      "outputs": [
        {
          "output_type": "execute_result",
          "data": {
            "text/plain": [
              "<matplotlib.collections.PathCollection at 0x7f8f1936ee30>"
            ]
          },
          "metadata": {},
          "execution_count": 10
        },
        {
          "output_type": "display_data",
          "data": {
            "text/plain": [
              "<Figure size 1000x800 with 1 Axes>"
            ],
            "image/png": "[encoded data removed]"
          },
          "metadata": {}
        }
      ],
      "source": [
        "fig1 = plt.figure(figsize=(10,8))\n",
        "plt.title(\"Point process of patient visit\")\n",
        "plt.xlabel(\"Visit time\")\n",
        "plt.ylabel(\"Patient ID\")\n",
        "plt.scatter(df_time_small[\"time\"], df_time_small[\"patient\"])"
      ]
    },
    {
      "cell_type": "markdown",
      "metadata": {
        "id": "3Ijbnw7wYe3-"
      },
      "source": [
        "# The importance of accounting for censoring\n",
        "\n",
        "I am interested in investigating the time between the first and the second doctors visit.\n",
        "For this task, I  investigate the data up until certain timepoints [0.1, 0.2, ... 1.2]. This means that in the first observation period only data with times less or equal to 0.1 ($\\leq$) are available. For second period data less than 0.2 is available and so on, increasing by 0.1 for each step up until 1.2.\n",
        "\n",
        "\n",
        "##  Preparing the data\n",
        "\n",
        "Write a function `prepare_analysis` that extracts the time of the first and second visit. Thereby I consider only data with time up to and including the threshold `t`.\n",
        "Patients which did not have their first visit within the considered interval are not included. Otherwise, if the second visit is not in the interval, indicate this with a NaN value.\n",
        "\n",
        "\n",
        "\n",
        "\n",
        "\n",
        "\n"
      ]
    },
    {
      "cell_type": "code",
      "execution_count": 12,
      "metadata": {
        "id": "Y9TU5m7uYe4B"
      },
      "outputs": [],
      "source": [
        "#pip install lifelines"
      ]
    },
    {
      "cell_type": "code",
      "execution_count": 13,
      "metadata": {
        "id": "RF2rLWqcYe4D"
      },
      "outputs": [],
      "source": [
        "from lifelines import ExponentialFitter"
      ]
    },
    {
      "cell_type": "code",
      "execution_count": 14,
      "metadata": {
        "id": "xnfUO725Ye4E"
      },
      "outputs": [],
      "source": [
        "def prepare_analysis(df_time : pd.DataFrame, t : float) -> pd.DataFrame:\n",
        "\n",
        "    def filter_func(x):\n",
        "        return x[\"time\"] <= t\n",
        "\n",
        "    #sort patient and time\n",
        "    sorted_data = df_time.sort_values([\"patient\", \"time\"])\n",
        "\n",
        "    #apply filter function\n",
        "    filtere_d = sorted_data.groupby([\"patient\", \"time\"]).filter(filter_func)\n",
        "\n",
        "    #reset index\n",
        "    filtere_d = filtere_d.reset_index()\n",
        "\n",
        "    #find both first and second times\n",
        "    first_time = filtere_d.groupby(\"patient\", group_keys = False)[\"time\"].nth([0])\n",
        "    second_time = filtere_d.groupby(\"patient\", group_keys = False)[\"time\"].nth([1])\n",
        "\n",
        "    #reset indexes for merging\n",
        "    d_frame_1 = first_time.reset_index()\n",
        "    d_frame_2 = second_time.reset_index()\n",
        "\n",
        "    #merge both dataframes\n",
        "    merged = pd.merge(d_frame_1, d_frame_2, on= \"patient\", how = \"outer\")\n",
        "\n",
        "    #develop result dataframe\n",
        "\n",
        "    return pd.DataFrame({\"first\" : merged[\"time_x\"], \"second\" :  merged[\"time_y\"]}).set_index(merged['patient'])"
      ]
    },
    {
      "cell_type": "code",
      "execution_count": 16,
      "metadata": {
        "id": "2zivZLhxYe4G",
        "outputId": "57bcb080-dff6-4e35-f378-944563b47a96",
        "colab": {
          "base_uri": "https://localhost:8080/"
        }
      },
      "outputs": [
        {
          "output_type": "stream",
          "name": "stdout",
          "text": [
            "#            first    second\n",
            "# patient                   \n",
            "# 2        0.03105  0.034792\n"
          ]
        }
      ],
      "source": [
        "df01 = prepare_analysis(df_time_small, 0.1)\n",
        "prepend_print(df01)\n"
      ]
    },
    {
      "cell_type": "code",
      "execution_count": 17,
      "metadata": {
        "id": "1t-lD_DbYe4I",
        "outputId": "d221234d-3937-4bcb-8f4d-caffd515b69d",
        "colab": {
          "base_uri": "https://localhost:8080/"
        }
      },
      "outputs": [
        {
          "output_type": "stream",
          "name": "stdout",
          "text": [
            "#             first    second\n",
            "# patient                    \n",
            "# 2        0.031050  0.034792\n",
            "# 7        0.149173       NaN\n"
          ]
        }
      ],
      "source": [
        "df02 = prepare_analysis(df_time_small, 0.2)\n",
        "prepend_print(df02)\n"
      ]
    },
    {
      "cell_type": "code",
      "execution_count": 18,
      "metadata": {
        "id": "pAD_LeTQYe4J",
        "outputId": "a2b2ed36-af91-4c3d-bc1f-b89a78fe069d",
        "colab": {
          "base_uri": "https://localhost:8080/"
        }
      },
      "outputs": [
        {
          "output_type": "stream",
          "name": "stdout",
          "text": [
            "#             first    second\n",
            "# patient                    \n",
            "# 0        0.329409  0.330142\n",
            "# 1        0.890911  0.891027\n",
            "# 2        0.031050  0.034792\n",
            "# 3        0.392886       NaN\n",
            "# 4        0.371249  0.443671\n",
            "# 5        0.501808  0.530332\n",
            "# 6        1.108256       NaN\n",
            "# 7        0.149173  0.255098\n",
            "# 8        0.269761  0.369204\n",
            "# 9        0.637595  0.783621\n"
          ]
        }
      ],
      "source": [
        "df12 = prepare_analysis(df_time_small, 1.2)\n",
        "prepend_print(df12)\n"
      ]
    },
    {
      "cell_type": "markdown",
      "metadata": {
        "id": "AkAOWzbUYe4L"
      },
      "source": [
        "##  Only observed ends\n",
        "\n",
        "Implement a function `filter_b` which returns the time between first and second visit.\n",
        "\n",
        "To calculate the survival analysis I need either a set duration or given times in which the the coxph package can calculate the hhazard estimation.\n"
      ]
    },
    {
      "cell_type": "code",
      "execution_count": 19,
      "metadata": {
        "id": "I4rTv3G-Ye4Q"
      },
      "outputs": [],
      "source": [
        "def filter_b(df : pd.DataFrame) -> pd.Series:\n",
        "\n",
        "    #assuming the data is already prepared, we first drop all rows with NaN\n",
        "    df = df.dropna()\n",
        "\n",
        "    #find difference\n",
        "    df = df[\"second\"] - df[\"first\"]\n",
        "\n",
        "    return pd.Series(df)"
      ]
    },
    {
      "cell_type": "code",
      "execution_count": 20,
      "metadata": {
        "id": "vVW1adgjYe4S",
        "outputId": "4286f45c-0e67-4271-9437-821ce1ca4f08",
        "colab": {
          "base_uri": "https://localhost:8080/"
        }
      },
      "outputs": [
        {
          "output_type": "execute_result",
          "data": {
            "text/plain": [
              "patient\n",
              "2    0.003741\n",
              "dtype: float64"
            ]
          },
          "metadata": {},
          "execution_count": 20
        }
      ],
      "source": [
        "filter_b(df01)\n"
      ]
    },
    {
      "cell_type": "code",
      "execution_count": 21,
      "metadata": {
        "id": "elMdbSOCYe4U",
        "outputId": "4276646e-41fa-4b2e-9cf0-632e2117effd",
        "colab": {
          "base_uri": "https://localhost:8080/"
        }
      },
      "outputs": [
        {
          "output_type": "execute_result",
          "data": {
            "text/plain": [
              "patient\n",
              "2    0.003741\n",
              "dtype: float64"
            ]
          },
          "metadata": {},
          "execution_count": 21
        }
      ],
      "source": [
        "filter_b(df02)\n"
      ]
    },
    {
      "cell_type": "markdown",
      "metadata": {
        "id": "Qg45WHjIYe4V"
      },
      "source": [
        "##  Accounting for right censoring\n",
        "In this approach, I keep information on patients whose first visit is in the considered interval but the second visit is not. Naturally, this is in addition to keeping the info on patients which had both their first and second visit in the considered time period.\n",
        "\n",
        "\n",
        "Thus I implement a function `filter_c` which performs this filtering and returns the time between first and second visit as well as a second argument which indicates whether the second visit was acutally observed. When the second visit was not observed in the considered time period it is assigned the end of the considered period (i.e. `t`).\n"
      ]
    },
    {
      "cell_type": "code",
      "execution_count": 22,
      "metadata": {
        "id": "e7iKDCPNYe4W"
      },
      "outputs": [],
      "source": [
        "def filter_c(df : pd.DataFrame, t : float) -> (pd.Series, pd.Series):\n",
        "\n",
        "    #create true or false values\n",
        "    df[\"observed\"] = df[\"second\"].notna()\n",
        "\n",
        "    #fillna with threshold\n",
        "    df = df.fillna(t)\n",
        "\n",
        "    #find the difference\n",
        "    df[\"duration\"] = df[\"second\"] - df[\"first\"]\n",
        "\n",
        "    #create dataframe\n",
        "    df =  pd.DataFrame({\"duration\" : df[\"duration\"], \"observed\" :  df[\"observed\"]})\n",
        "    df.index.name = 'patient'\n",
        "    return df"
      ]
    },
    {
      "cell_type": "code",
      "execution_count": 23,
      "metadata": {
        "id": "9S2rnwCCYe4Y",
        "outputId": "52b0d7b0-d95b-4833-ea0f-c9294af9197b",
        "colab": {
          "base_uri": "https://localhost:8080/"
        }
      },
      "outputs": [
        {
          "output_type": "stream",
          "name": "stdout",
          "text": [
            "#          duration  observed\n",
            "# patient                    \n",
            "# 2        0.003741      True\n"
          ]
        }
      ],
      "source": [
        "prepend_print(filter_c(df01, 0.1))\n"
      ]
    },
    {
      "cell_type": "code",
      "execution_count": 24,
      "metadata": {
        "id": "JMZu6vzbYe4Z",
        "outputId": "47436572-3f9b-4afa-bc0e-ba671626b735",
        "colab": {
          "base_uri": "https://localhost:8080/"
        }
      },
      "outputs": [
        {
          "output_type": "stream",
          "name": "stdout",
          "text": [
            "#          duration  observed\n",
            "# patient                    \n",
            "# 2        0.003741      True\n",
            "# 7        0.050827     False\n"
          ]
        }
      ],
      "source": [
        "prepend_print(filter_c(df02, 0.2))\n",
        "\n"
      ]
    },
    {
      "cell_type": "code",
      "execution_count": 25,
      "metadata": {
        "id": "0TU4GrLbYe4b",
        "outputId": "e1e71947-6096-4c75-884b-105ea11eef9c",
        "colab": {
          "base_uri": "https://localhost:8080/"
        }
      },
      "outputs": [
        {
          "output_type": "stream",
          "name": "stdout",
          "text": [
            "#          duration  observed\n",
            "# patient                    \n",
            "# 0        0.000733      True\n",
            "# 1        0.000116      True\n",
            "# 2        0.003741      True\n",
            "# 3        0.807114     False\n",
            "# 4        0.072422      True\n",
            "# 5        0.028524      True\n",
            "# 6        0.091744     False\n",
            "# 7        0.105925      True\n",
            "# 8        0.099443      True\n",
            "# 9        0.146026      True\n"
          ]
        }
      ],
      "source": [
        "prepend_print(filter_c(df12, 1.2))\n"
      ]
    },
    {
      "cell_type": "markdown",
      "metadata": {
        "id": "AQkoBxnpYe4d"
      },
      "source": [
        "\n",
        "\n",
        "##  Stability of hazard estimation\n",
        "\n",
        "For each of the thresholds `t in [0.1, 0.2, ... 1.2]` estimate the hazard $\\lambda$ (accessible via `.lambda_`) using the `ExponentialFitter` from the `lifelines` library.\n",
        "\n",
        "\n",
        "\n",
        "For the case considered here the `.fit` function of the the `ExponentialFitter` requires only 1 or 2 arguments. The first argument is the length of intervals until the observed event (or in this case, the timespan between two events).\n",
        "The second optional argument is only needed when accounting for potential censoring. You can pass a 0-1 array with information on censoring as a second argument to the `.fit` function. 1s are indicating and observed end, and 0s indicating still waiting for the end. The end here is \"second visit\".\n",
        "\n",
        "The hazard function is λ(t) = f(t)/S(t). It is the probability that the\n",
        "person or machine or business dies in the next instant, given that it survived\n",
        "to time t"
      ]
    },
    {
      "cell_type": "code",
      "execution_count": 26,
      "metadata": {
        "id": "nrtGhUsxYe4e"
      },
      "outputs": [],
      "source": [
        "#filter_b\n",
        "fb_01 = filter_b(prepare_analysis(visits_large,0.1))\n",
        "fb_02 = filter_b(prepare_analysis(visits_large,0.2))\n",
        "fb_03 = filter_b(prepare_analysis(visits_large,0.3))\n",
        "fb_04 = filter_b(prepare_analysis(visits_large,0.4))\n",
        "fb_05 = filter_b(prepare_analysis(visits_large,0.5))\n",
        "fb_06 = filter_b(prepare_analysis(visits_large,0.6))\n",
        "fb_07 = filter_b(prepare_analysis(visits_large,0.7))\n",
        "fb_08 = filter_b(prepare_analysis(visits_large,0.8))\n",
        "fb_09 = filter_b(prepare_analysis(visits_large,0.9))\n",
        "fb_10 = filter_b(prepare_analysis(visits_large,1.0))\n",
        "fb_11 = filter_b(prepare_analysis(visits_large,1.1))\n",
        "fb_12 = filter_b(prepare_analysis(visits_large,1.2))\n",
        "\n"
      ]
    },
    {
      "cell_type": "code",
      "execution_count": 28,
      "metadata": {
        "id": "lFJsN-RoYe4f"
      },
      "outputs": [],
      "source": [
        "#filter_c\n",
        "fc_01 = filter_c(prepare_analysis(visits_large,0.1), 0.1)\n",
        "fc_02 = filter_c(prepare_analysis(visits_large,0.2), 0.2)\n",
        "fc_03 = filter_c(prepare_analysis(visits_large,0.3), 0.3)\n",
        "fc_04 = filter_c(prepare_analysis(visits_large,0.4), 0.4)\n",
        "fc_05 = filter_c(prepare_analysis(visits_large,0.5), 0.5)\n",
        "fc_06 = filter_c(prepare_analysis(visits_large,0.6), 0.6)\n",
        "fc_07 = filter_c(prepare_analysis(visits_large,0.7), 0.7)\n",
        "fc_08 = filter_c(prepare_analysis(visits_large,0.8), 0.8)\n",
        "fc_09 = filter_c(prepare_analysis(visits_large,0.9), 0.9)\n",
        "fc_10 = filter_c(prepare_analysis(visits_large,1.0), 1.0)\n",
        "fc_11 = filter_c(prepare_analysis(visits_large,1.1), 1.1)\n",
        "fc_12 = filter_c(prepare_analysis(visits_large,1.2), 1.2)"
      ]
    },
    {
      "cell_type": "code",
      "execution_count": 31,
      "metadata": {
        "id": "WQCKb8gZYe4h"
      },
      "outputs": [],
      "source": [
        "#exponential fitter\n",
        "exp = ExponentialFitter()"
      ]
    },
    {
      "cell_type": "code",
      "execution_count": 32,
      "metadata": {
        "id": "kUiNrMzmYe4i"
      },
      "outputs": [],
      "source": [
        "#lambda for filter b\n",
        "fb_01_exp = exp.fit(fb_01).lambda_\n",
        "fb_02_exp = exp.fit(fb_02).lambda_\n",
        "fb_03_exp = exp.fit(fb_03).lambda_\n",
        "fb_04_exp = exp.fit(fb_04).lambda_\n",
        "fb_05_exp = exp.fit(fb_05).lambda_\n",
        "fb_06_exp = exp.fit(fb_06).lambda_\n",
        "fb_07_exp = exp.fit(fb_07).lambda_\n",
        "fb_08_exp = exp.fit(fb_08).lambda_\n",
        "fb_09_exp = exp.fit(fb_09).lambda_\n",
        "fb_10_exp = exp.fit(fb_10).lambda_\n",
        "fb_11_exp = exp.fit(fb_11).lambda_\n",
        "fb_12_exp = exp.fit(fb_12).lambda_\n"
      ]
    },
    {
      "cell_type": "code",
      "execution_count": 33,
      "metadata": {
        "id": "DnGVt_wLYe4j"
      },
      "outputs": [],
      "source": [
        "#lambda for filter c\n",
        "fc_01_exp = exp.fit(fc_01[\"duration\"],fc_01[\"observed\"]).lambda_\n",
        "fc_02_exp = exp.fit(fc_02[\"duration\"],fc_02[\"observed\"]).lambda_\n",
        "fc_03_exp = exp.fit(fc_03[\"duration\"],fc_03[\"observed\"]).lambda_\n",
        "fc_04_exp = exp.fit(fc_04[\"duration\"],fc_04[\"observed\"]).lambda_\n",
        "fc_05_exp = exp.fit(fc_05[\"duration\"],fc_05[\"observed\"]).lambda_\n",
        "fc_06_exp = exp.fit(fc_06[\"duration\"],fc_06[\"observed\"]).lambda_\n",
        "fc_07_exp = exp.fit(fc_07[\"duration\"],fc_07[\"observed\"]).lambda_\n",
        "fc_08_exp = exp.fit(fc_08[\"duration\"],fc_08[\"observed\"]).lambda_\n",
        "fc_09_exp = exp.fit(fc_09[\"duration\"],fc_09[\"observed\"]).lambda_\n",
        "fc_10_exp = exp.fit(fc_10[\"duration\"],fc_10[\"observed\"]).lambda_\n",
        "fc_11_exp = exp.fit(fc_11[\"duration\"],fc_11[\"observed\"]).lambda_\n",
        "fc_12_exp = exp.fit(fc_12[\"duration\"],fc_12[\"observed\"]).lambda_"
      ]
    },
    {
      "cell_type": "markdown",
      "metadata": {
        "id": "lyN-5wv8Ye4p"
      },
      "source": [
        "##  Impact of covariates on the time between first and second visit\n",
        "\n",
        "I now want to investigate the impact of covariates on the time between first and second visit.\n",
        "\n",
        "To that I extend and  create a DataFrame `df_e` with columns `['duration', 'observed', 'age', 'height', 'woman', 'weight']` by joining the patient data (`patients.csv`) with the data on duration between first and second visit obtained in the model from\n",
        "\n",
        "Then I fit a CoxPH model using the `CoxPHFitter` from the lifelines library to the entire dataset. Censoring is indicated where is necessary."
      ]
    },
    {
      "cell_type": "code",
      "execution_count": 35,
      "metadata": {
        "id": "p1zRXFZYYe4q"
      },
      "outputs": [],
      "source": [
        "visits_filtered = filter_c(prepare_analysis(visits_large, 1.2), 1.2)"
      ]
    },
    {
      "cell_type": "code",
      "execution_count": 36,
      "metadata": {
        "id": "umFS9Q0nYe5D"
      },
      "outputs": [],
      "source": [
        "visits_filtered = visits_filtered.reset_index()"
      ]
    },
    {
      "cell_type": "code",
      "execution_count": null,
      "metadata": {
        "id": "wY-1WNkQYe5E"
      },
      "outputs": [],
      "source": [
        "#patients_large"
      ]
    },
    {
      "cell_type": "code",
      "execution_count": 37,
      "metadata": {
        "id": "YER_SOD_Ye5F"
      },
      "outputs": [],
      "source": [
        "from lifelines import CoxPHFitter"
      ]
    },
    {
      "cell_type": "code",
      "execution_count": 38,
      "metadata": {
        "id": "--lgKboFYe5G"
      },
      "outputs": [],
      "source": [
        "df_e = pd.merge(visits_filtered, patients_large, left_index= True, right_index=True).set_index(\"patient\")"
      ]
    },
    {
      "cell_type": "code",
      "execution_count": 39,
      "metadata": {
        "id": "bz1cg5SAYe5H"
      },
      "outputs": [],
      "source": [
        "df_e_small = df_e[df_e.index < 10]"
      ]
    },
    {
      "cell_type": "code",
      "execution_count": 40,
      "metadata": {
        "id": "ak-Ue33mYe5I",
        "outputId": "209555b3-b6f1-414e-cbd8-79cd0433e5b2",
        "colab": {
          "base_uri": "https://localhost:8080/",
          "height": 568
        }
      },
      "outputs": [
        {
          "output_type": "display_data",
          "data": {
            "text/plain": [
              "<lifelines.CoxPHFitter: fitted with 954 total observations, 94 right-censored observations>\n",
              "             duration col = 'duration'\n",
              "                event col = 'observed'\n",
              "      baseline estimation = breslow\n",
              "   number of observations = 954\n",
              "number of events observed = 860\n",
              "   partial log-likelihood = -5162.86\n",
              "         time fit was run = 2023-07-25 21:11:02 UTC\n",
              "\n",
              "---\n",
              "            coef  exp(coef)   se(coef)   coef lower 95%   coef upper 95%  exp(coef) lower 95%  exp(coef) upper 95%\n",
              "covariate                                                                                                         \n",
              "age         0.01       1.01       0.00            -0.00             0.01                 1.00                 1.01\n",
              "height     -0.38       0.68       0.30            -0.98             0.21                 0.37                 1.24\n",
              "woman      -0.04       0.96       0.07            -0.18             0.10                 0.83                 1.10\n",
              "weight      0.01       1.01       0.00            -0.00             0.01                 1.00                 1.01\n",
              "\n",
              "            cmp to     z    p   -log2(p)\n",
              "covariate                               \n",
              "age           0.00  1.45 0.15       2.75\n",
              "height        0.00 -1.26 0.21       2.28\n",
              "woman         0.00 -0.62 0.54       0.89\n",
              "weight        0.00  1.57 0.12       3.09\n",
              "---\n",
              "Concordance = 0.52\n",
              "Partial AIC = 10333.71\n",
              "log-likelihood ratio test = 5.08 on 4 df\n",
              "-log2(p) of ll-ratio test = 1.84"
            ],
            "text/html": [
              "<div>\n",
              "<style scoped>\n",
              "    .dataframe tbody tr th:only-of-type {\n",
              "        vertical-align: middle;\n",
              "    }\n",
              "\n",
              "    .dataframe tbody tr th {\n",
              "        vertical-align: top;\n",
              "    }\n",
              "\n",
              "    .dataframe thead th {\n",
              "        text-align: right;\n",
              "    }\n",
              "</style>\n",
              "<table border=\"1\" class=\"dataframe\">\n",
              "  <tbody>\n",
              "    <tr>\n",
              "      <th>model</th>\n",
              "      <td>lifelines.CoxPHFitter</td>\n",
              "    </tr>\n",
              "    <tr>\n",
              "      <th>duration col</th>\n",
              "      <td>'duration'</td>\n",
              "    </tr>\n",
              "    <tr>\n",
              "      <th>event col</th>\n",
              "      <td>'observed'</td>\n",
              "    </tr>\n",
              "    <tr>\n",
              "      <th>baseline estimation</th>\n",
              "      <td>breslow</td>\n",
              "    </tr>\n",
              "    <tr>\n",
              "      <th>number of observations</th>\n",
              "      <td>954</td>\n",
              "    </tr>\n",
              "    <tr>\n",
              "      <th>number of events observed</th>\n",
              "      <td>860</td>\n",
              "    </tr>\n",
              "    <tr>\n",
              "      <th>partial log-likelihood</th>\n",
              "      <td>-5162.86</td>\n",
              "    </tr>\n",
              "    <tr>\n",
              "      <th>time fit was run</th>\n",
              "      <td>2023-07-25 21:11:02 UTC</td>\n",
              "    </tr>\n",
              "  </tbody>\n",
              "</table>\n",
              "</div><table border=\"1\" class=\"dataframe\">\n",
              "  <thead>\n",
              "    <tr style=\"text-align: right;\">\n",
              "      <th style=\"min-width: 12px;\"></th>\n",
              "      <th style=\"min-width: 12px;\">coef</th>\n",
              "      <th style=\"min-width: 12px;\">exp(coef)</th>\n",
              "      <th style=\"min-width: 12px;\">se(coef)</th>\n",
              "      <th style=\"min-width: 12px;\">coef lower 95%</th>\n",
              "      <th style=\"min-width: 12px;\">coef upper 95%</th>\n",
              "      <th style=\"min-width: 12px;\">exp(coef) lower 95%</th>\n",
              "      <th style=\"min-width: 12px;\">exp(coef) upper 95%</th>\n",
              "      <th style=\"min-width: 12px;\">cmp to</th>\n",
              "      <th style=\"min-width: 12px;\">z</th>\n",
              "      <th style=\"min-width: 12px;\">p</th>\n",
              "      <th style=\"min-width: 12px;\">-log2(p)</th>\n",
              "    </tr>\n",
              "  </thead>\n",
              "  <tbody>\n",
              "    <tr>\n",
              "      <th>age</th>\n",
              "      <td>0.01</td>\n",
              "      <td>1.01</td>\n",
              "      <td>0.00</td>\n",
              "      <td>-0.00</td>\n",
              "      <td>0.01</td>\n",
              "      <td>1.00</td>\n",
              "      <td>1.01</td>\n",
              "      <td>0.00</td>\n",
              "      <td>1.45</td>\n",
              "      <td>0.15</td>\n",
              "      <td>2.75</td>\n",
              "    </tr>\n",
              "    <tr>\n",
              "      <th>height</th>\n",
              "      <td>-0.38</td>\n",
              "      <td>0.68</td>\n",
              "      <td>0.30</td>\n",
              "      <td>-0.98</td>\n",
              "      <td>0.21</td>\n",
              "      <td>0.37</td>\n",
              "      <td>1.24</td>\n",
              "      <td>0.00</td>\n",
              "      <td>-1.26</td>\n",
              "      <td>0.21</td>\n",
              "      <td>2.28</td>\n",
              "    </tr>\n",
              "    <tr>\n",
              "      <th>woman</th>\n",
              "      <td>-0.04</td>\n",
              "      <td>0.96</td>\n",
              "      <td>0.07</td>\n",
              "      <td>-0.18</td>\n",
              "      <td>0.10</td>\n",
              "      <td>0.83</td>\n",
              "      <td>1.10</td>\n",
              "      <td>0.00</td>\n",
              "      <td>-0.62</td>\n",
              "      <td>0.54</td>\n",
              "      <td>0.89</td>\n",
              "    </tr>\n",
              "    <tr>\n",
              "      <th>weight</th>\n",
              "      <td>0.01</td>\n",
              "      <td>1.01</td>\n",
              "      <td>0.00</td>\n",
              "      <td>-0.00</td>\n",
              "      <td>0.01</td>\n",
              "      <td>1.00</td>\n",
              "      <td>1.01</td>\n",
              "      <td>0.00</td>\n",
              "      <td>1.57</td>\n",
              "      <td>0.12</td>\n",
              "      <td>3.09</td>\n",
              "    </tr>\n",
              "  </tbody>\n",
              "</table><br><div>\n",
              "<style scoped>\n",
              "    .dataframe tbody tr th:only-of-type {\n",
              "        vertical-align: middle;\n",
              "    }\n",
              "\n",
              "    .dataframe tbody tr th {\n",
              "        vertical-align: top;\n",
              "    }\n",
              "\n",
              "    .dataframe thead th {\n",
              "        text-align: right;\n",
              "    }\n",
              "</style>\n",
              "<table border=\"1\" class=\"dataframe\">\n",
              "  <tbody>\n",
              "    <tr>\n",
              "      <th>Concordance</th>\n",
              "      <td>0.52</td>\n",
              "    </tr>\n",
              "    <tr>\n",
              "      <th>Partial AIC</th>\n",
              "      <td>10333.71</td>\n",
              "    </tr>\n",
              "    <tr>\n",
              "      <th>log-likelihood ratio test</th>\n",
              "      <td>5.08 on 4 df</td>\n",
              "    </tr>\n",
              "    <tr>\n",
              "      <th>-log2(p) of ll-ratio test</th>\n",
              "      <td>1.84</td>\n",
              "    </tr>\n",
              "  </tbody>\n",
              "</table>\n",
              "</div>"
            ],
            "text/latex": "\\begin{tabular}{lrrrrrrrrrrr}\n & coef & exp(coef) & se(coef) & coef lower 95% & coef upper 95% & exp(coef) lower 95% & exp(coef) upper 95% & cmp to & z & p & -log2(p) \\\\\ncovariate &  &  &  &  &  &  &  &  &  &  &  \\\\\nage & 0.01 & 1.01 & 0.00 & -0.00 & 0.01 & 1.00 & 1.01 & 0.00 & 1.45 & 0.15 & 2.75 \\\\\nheight & -0.38 & 0.68 & 0.30 & -0.98 & 0.21 & 0.37 & 1.24 & 0.00 & -1.26 & 0.21 & 2.28 \\\\\nwoman & -0.04 & 0.96 & 0.07 & -0.18 & 0.10 & 0.83 & 1.10 & 0.00 & -0.62 & 0.54 & 0.89 \\\\\nweight & 0.01 & 1.01 & 0.00 & -0.00 & 0.01 & 1.00 & 1.01 & 0.00 & 1.57 & 0.12 & 3.09 \\\\\n\\end{tabular}\n"
          },
          "metadata": {}
        }
      ],
      "source": [
        "cph_e = CoxPHFitter().fit(df_e, duration_col= \"duration\", event_col=\"observed\")\n",
        "cph_e\n",
        "cph_e.print_summary()"
      ]
    },
    {
      "cell_type": "code",
      "execution_count": 41,
      "metadata": {
        "id": "Mi0aSboaYe5L",
        "outputId": "212aeb3d-2e06-4a21-e9bb-e973aeb27eef",
        "colab": {
          "base_uri": "https://localhost:8080/"
        }
      },
      "outputs": [
        {
          "output_type": "stream",
          "name": "stdout",
          "text": [
            "#          duration  observed  age    height  woman      weight\n",
            "# patient                                                      \n",
            "# 0        0.000733      True   45  1.356927      0   56.493105\n",
            "# 1        0.000116      True   38  1.912660      0   65.265604\n",
            "# 2        0.003741      True   34  1.959194      0  114.580135\n",
            "# 3        0.807114     False   26  1.366445      1   39.048446\n",
            "# 4        0.072422      True   27  1.218124      1   26.843019\n",
            "# 5        0.028524      True   19  1.638106      0   69.084010\n",
            "# 6        0.091744     False   20  1.427899      0   60.243845\n",
            "# 7        0.105925      True   18  1.980142      0   86.770180\n",
            "# 8        0.099443      True   23  1.928389      0   81.263253\n",
            "# 9        0.146026      True   44  1.972465      0   80.431458\n"
          ]
        }
      ],
      "source": [
        "# give you an idea how the input to the fit should look like\n",
        "prepend_print(df_e_small)\n"
      ]
    },
    {
      "cell_type": "markdown",
      "metadata": {
        "id": "anTtDB7FYe5M"
      },
      "source": [
        "##  Time between doctors visits\n",
        "\n",
        "So far I was only concerned with the time between the first and second doctors visit. I will now be using the entire dataset to predict the time between doctors visits. (not just the time between the first and second). This is a little bit of an unsual scenario for survival analysis as each individual can experience the event more than once, but the methods used to analyse this problem are very similar to the once already explored.\n",
        "\n",
        "Now I will write a function that computes the duration between all doctors visits for each patient. Notice, that for all of the patients their final visit is not recorded. Thus, I indicate this using an observed column which contains ones if durations true end was observed or whether the end is just the end of the investigation period."
      ]
    },
    {
      "cell_type": "code",
      "execution_count": 42,
      "metadata": {
        "id": "BtCHiKDpYe5N"
      },
      "outputs": [],
      "source": [
        "from lifelines import CoxPHFitter"
      ]
    },
    {
      "cell_type": "code",
      "execution_count": 43,
      "metadata": {
        "id": "1XNFUkCvYe5O"
      },
      "outputs": [],
      "source": [
        "def prepare_analysis_all(df_time : pd.DataFrame, max_t : float) -> pd.DataFrame:\n",
        "    def filter_funclong(x):\n",
        "        return x[\"time\"] <= max_t\n",
        "\n",
        "    #sort dataframe\n",
        "    sorted_all = df_time.sort_values([\"patient\", \"time\"])\n",
        "\n",
        "    #apply filter function\n",
        "    filtered_all = sorted_all.groupby([\"patient\", \"time\"]).filter(filter_funclong)\n",
        "\n",
        "    #reset index\n",
        "    filtered_all = filtered_all.reset_index()\n",
        "\n",
        "    #create duration df\n",
        "    filtered_all[\"duration\"] = filtered_all.groupby(\"patient\")[\"time\"].diff(-1) * (-1)\n",
        "    new_df = pd.DataFrame(filtered_all)\n",
        "    new_df[\"observed\"] = new_df[\"duration\"].notna()\n",
        "    values_nan = max_t - new_df[\"time\"]\n",
        "    new_df[\"duration\"] = new_df[\"duration\"].fillna(value=values_nan)\n",
        "\n",
        "    #find the difference in durations\n",
        "    return pd.DataFrame(new_df, columns = [\"patient\", \"observed\", \"duration\"])"
      ]
    },
    {
      "cell_type": "code",
      "execution_count": 44,
      "metadata": {
        "id": "GBZ85phgYe5Q",
        "outputId": "61108526-384e-4008-b27d-da24a955ad26",
        "colab": {
          "base_uri": "https://localhost:8080/"
        }
      },
      "outputs": [
        {
          "output_type": "execute_result",
          "data": {
            "text/plain": [
              "0.0007685788"
            ]
          },
          "metadata": {},
          "execution_count": 44
        }
      ],
      "source": [
        "visits_small = visits_large[visits_large[\"patient\"]<= 10]\n",
        "visits_large.time.min()"
      ]
    },
    {
      "cell_type": "code",
      "execution_count": 45,
      "metadata": {
        "id": "pUMceKpUYe5R",
        "outputId": "1fd6a2ec-0063-4ccb-db6d-ffe81225d821",
        "colab": {
          "base_uri": "https://localhost:8080/"
        }
      },
      "outputs": [
        {
          "output_type": "stream",
          "name": "stdout",
          "text": [
            "#    patient  observed  duration\n",
            "# 0        0      True  0.000733\n",
            "# 1        0      True  0.526598\n",
            "# 2        0      True  0.072540\n",
            "# 3        0     False  0.270720\n",
            "# 4        1      True  0.000116\n",
            "# 5        1      True  0.019653\n",
            "# 6        1      True  0.096634\n",
            "# 7        1     False  0.192686\n",
            "# 8        2      True  0.003741\n",
            "# 9        2      True  0.104157\n"
          ]
        }
      ],
      "source": [
        "durations_small = prepare_analysis_all(visits_small, 1.2)\n",
        "prepend_print(durations_small.head(10))\n"
      ]
    },
    {
      "cell_type": "markdown",
      "metadata": {
        "id": "uAn9tDkuYe5T"
      },
      "source": [
        "##  CoxPh for the entire dataset\n",
        "\n",
        "Using the covariates in `patients.csv` in a CoxPH model but now modeling the entire dataset rather than the visits between the first and second visit only. To achieve this I perform a join.\n",
        "\n",
        "Compute the parameter estimates once without (`cph_g1`) and once with (`cph_g2`) accounting for the fact that the observations are not independent. (rememember there are multiple observations for one patient)\n",
        "\n",
        "*NB* You can indidate observations that belong to the same group through the keyword argument `cluster_col` of the `.fit` function.\n"
      ]
    },
    {
      "cell_type": "code",
      "execution_count": 46,
      "metadata": {
        "id": "k_A_SRKwYe5U"
      },
      "outputs": [],
      "source": [
        "all_filtered = prepare_analysis_all(visits_large,1.2)"
      ]
    },
    {
      "cell_type": "code",
      "execution_count": 47,
      "metadata": {
        "id": "waobmkEAYe5Y"
      },
      "outputs": [],
      "source": [
        "df_g = pd.merge(all_filtered, patients_large, left_on='patient', right_index=True)"
      ]
    },
    {
      "cell_type": "code",
      "execution_count": 48,
      "metadata": {
        "id": "Ejblkl9mYe5a"
      },
      "outputs": [],
      "source": [
        "df_g_small = df_g[df_g[\"patient\"]<=10]"
      ]
    },
    {
      "cell_type": "code",
      "execution_count": 49,
      "metadata": {
        "id": "WKjnEBlAYe5d",
        "outputId": "47efb3e2-0eb1-43e5-d088-7cc0bd6ec3e6",
        "colab": {
          "base_uri": "https://localhost:8080/",
          "height": 600
        }
      },
      "outputs": [
        {
          "output_type": "display_data",
          "data": {
            "text/plain": [
              "<lifelines.CoxPHFitter: fitted with 4890 total observations, 954 right-censored observations>\n",
              "             duration col = 'duration'\n",
              "                event col = 'observed'\n",
              "      baseline estimation = breslow\n",
              "   number of observations = 4890\n",
              "number of events observed = 3936\n",
              "   partial log-likelihood = -29569.00\n",
              "         time fit was run = 2023-07-25 21:22:33 UTC\n",
              "\n",
              "---\n",
              "            coef  exp(coef)   se(coef)   coef lower 95%   coef upper 95%  exp(coef) lower 95%  exp(coef) upper 95%\n",
              "covariate                                                                                                         \n",
              "patient     0.00       1.00       0.00             0.00             0.00                 1.00                 1.00\n",
              "age         0.00       1.00       0.00            -0.00             0.01                 1.00                 1.01\n",
              "height     -0.30       0.74       0.15            -0.59            -0.01                 0.56                 0.99\n",
              "woman      -0.11       0.90       0.03            -0.18            -0.04                 0.84                 0.96\n",
              "weight      0.02       1.02       0.00             0.02             0.03                 1.02                 1.03\n",
              "\n",
              "            cmp to     z      p   -log2(p)\n",
              "covariate                                 \n",
              "patient       0.00  2.02   0.04       4.51\n",
              "age           0.00  1.48   0.14       2.85\n",
              "height        0.00 -2.03   0.04       4.57\n",
              "woman         0.00 -3.21 <0.005       9.58\n",
              "weight        0.00 15.61 <0.005     180.08\n",
              "---\n",
              "Concordance = 0.62\n",
              "Partial AIC = 59148.00\n",
              "log-likelihood ratio test = 662.21 on 5 df\n",
              "-log2(p) of ll-ratio test = 465.53"
            ],
            "text/html": [
              "<div>\n",
              "<style scoped>\n",
              "    .dataframe tbody tr th:only-of-type {\n",
              "        vertical-align: middle;\n",
              "    }\n",
              "\n",
              "    .dataframe tbody tr th {\n",
              "        vertical-align: top;\n",
              "    }\n",
              "\n",
              "    .dataframe thead th {\n",
              "        text-align: right;\n",
              "    }\n",
              "</style>\n",
              "<table border=\"1\" class=\"dataframe\">\n",
              "  <tbody>\n",
              "    <tr>\n",
              "      <th>model</th>\n",
              "      <td>lifelines.CoxPHFitter</td>\n",
              "    </tr>\n",
              "    <tr>\n",
              "      <th>duration col</th>\n",
              "      <td>'duration'</td>\n",
              "    </tr>\n",
              "    <tr>\n",
              "      <th>event col</th>\n",
              "      <td>'observed'</td>\n",
              "    </tr>\n",
              "    <tr>\n",
              "      <th>baseline estimation</th>\n",
              "      <td>breslow</td>\n",
              "    </tr>\n",
              "    <tr>\n",
              "      <th>number of observations</th>\n",
              "      <td>4890</td>\n",
              "    </tr>\n",
              "    <tr>\n",
              "      <th>number of events observed</th>\n",
              "      <td>3936</td>\n",
              "    </tr>\n",
              "    <tr>\n",
              "      <th>partial log-likelihood</th>\n",
              "      <td>-29569.00</td>\n",
              "    </tr>\n",
              "    <tr>\n",
              "      <th>time fit was run</th>\n",
              "      <td>2023-07-25 21:22:33 UTC</td>\n",
              "    </tr>\n",
              "  </tbody>\n",
              "</table>\n",
              "</div><table border=\"1\" class=\"dataframe\">\n",
              "  <thead>\n",
              "    <tr style=\"text-align: right;\">\n",
              "      <th style=\"min-width: 12px;\"></th>\n",
              "      <th style=\"min-width: 12px;\">coef</th>\n",
              "      <th style=\"min-width: 12px;\">exp(coef)</th>\n",
              "      <th style=\"min-width: 12px;\">se(coef)</th>\n",
              "      <th style=\"min-width: 12px;\">coef lower 95%</th>\n",
              "      <th style=\"min-width: 12px;\">coef upper 95%</th>\n",
              "      <th style=\"min-width: 12px;\">exp(coef) lower 95%</th>\n",
              "      <th style=\"min-width: 12px;\">exp(coef) upper 95%</th>\n",
              "      <th style=\"min-width: 12px;\">cmp to</th>\n",
              "      <th style=\"min-width: 12px;\">z</th>\n",
              "      <th style=\"min-width: 12px;\">p</th>\n",
              "      <th style=\"min-width: 12px;\">-log2(p)</th>\n",
              "    </tr>\n",
              "  </thead>\n",
              "  <tbody>\n",
              "    <tr>\n",
              "      <th>patient</th>\n",
              "      <td>0.00</td>\n",
              "      <td>1.00</td>\n",
              "      <td>0.00</td>\n",
              "      <td>0.00</td>\n",
              "      <td>0.00</td>\n",
              "      <td>1.00</td>\n",
              "      <td>1.00</td>\n",
              "      <td>0.00</td>\n",
              "      <td>2.02</td>\n",
              "      <td>0.04</td>\n",
              "      <td>4.51</td>\n",
              "    </tr>\n",
              "    <tr>\n",
              "      <th>age</th>\n",
              "      <td>0.00</td>\n",
              "      <td>1.00</td>\n",
              "      <td>0.00</td>\n",
              "      <td>-0.00</td>\n",
              "      <td>0.01</td>\n",
              "      <td>1.00</td>\n",
              "      <td>1.01</td>\n",
              "      <td>0.00</td>\n",
              "      <td>1.48</td>\n",
              "      <td>0.14</td>\n",
              "      <td>2.85</td>\n",
              "    </tr>\n",
              "    <tr>\n",
              "      <th>height</th>\n",
              "      <td>-0.30</td>\n",
              "      <td>0.74</td>\n",
              "      <td>0.15</td>\n",
              "      <td>-0.59</td>\n",
              "      <td>-0.01</td>\n",
              "      <td>0.56</td>\n",
              "      <td>0.99</td>\n",
              "      <td>0.00</td>\n",
              "      <td>-2.03</td>\n",
              "      <td>0.04</td>\n",
              "      <td>4.57</td>\n",
              "    </tr>\n",
              "    <tr>\n",
              "      <th>woman</th>\n",
              "      <td>-0.11</td>\n",
              "      <td>0.90</td>\n",
              "      <td>0.03</td>\n",
              "      <td>-0.18</td>\n",
              "      <td>-0.04</td>\n",
              "      <td>0.84</td>\n",
              "      <td>0.96</td>\n",
              "      <td>0.00</td>\n",
              "      <td>-3.21</td>\n",
              "      <td>&lt;0.005</td>\n",
              "      <td>9.58</td>\n",
              "    </tr>\n",
              "    <tr>\n",
              "      <th>weight</th>\n",
              "      <td>0.02</td>\n",
              "      <td>1.02</td>\n",
              "      <td>0.00</td>\n",
              "      <td>0.02</td>\n",
              "      <td>0.03</td>\n",
              "      <td>1.02</td>\n",
              "      <td>1.03</td>\n",
              "      <td>0.00</td>\n",
              "      <td>15.61</td>\n",
              "      <td>&lt;0.005</td>\n",
              "      <td>180.08</td>\n",
              "    </tr>\n",
              "  </tbody>\n",
              "</table><br><div>\n",
              "<style scoped>\n",
              "    .dataframe tbody tr th:only-of-type {\n",
              "        vertical-align: middle;\n",
              "    }\n",
              "\n",
              "    .dataframe tbody tr th {\n",
              "        vertical-align: top;\n",
              "    }\n",
              "\n",
              "    .dataframe thead th {\n",
              "        text-align: right;\n",
              "    }\n",
              "</style>\n",
              "<table border=\"1\" class=\"dataframe\">\n",
              "  <tbody>\n",
              "    <tr>\n",
              "      <th>Concordance</th>\n",
              "      <td>0.62</td>\n",
              "    </tr>\n",
              "    <tr>\n",
              "      <th>Partial AIC</th>\n",
              "      <td>59148.00</td>\n",
              "    </tr>\n",
              "    <tr>\n",
              "      <th>log-likelihood ratio test</th>\n",
              "      <td>662.21 on 5 df</td>\n",
              "    </tr>\n",
              "    <tr>\n",
              "      <th>-log2(p) of ll-ratio test</th>\n",
              "      <td>465.53</td>\n",
              "    </tr>\n",
              "  </tbody>\n",
              "</table>\n",
              "</div>"
            ],
            "text/latex": "\\begin{tabular}{lrrrrrrrrrrr}\n & coef & exp(coef) & se(coef) & coef lower 95% & coef upper 95% & exp(coef) lower 95% & exp(coef) upper 95% & cmp to & z & p & -log2(p) \\\\\ncovariate &  &  &  &  &  &  &  &  &  &  &  \\\\\npatient & 0.00 & 1.00 & 0.00 & 0.00 & 0.00 & 1.00 & 1.00 & 0.00 & 2.02 & 0.04 & 4.51 \\\\\nage & 0.00 & 1.00 & 0.00 & -0.00 & 0.01 & 1.00 & 1.01 & 0.00 & 1.48 & 0.14 & 2.85 \\\\\nheight & -0.30 & 0.74 & 0.15 & -0.59 & -0.01 & 0.56 & 0.99 & 0.00 & -2.03 & 0.04 & 4.57 \\\\\nwoman & -0.11 & 0.90 & 0.03 & -0.18 & -0.04 & 0.84 & 0.96 & 0.00 & -3.21 & 0.00 & 9.58 \\\\\nweight & 0.02 & 1.02 & 0.00 & 0.02 & 0.03 & 1.02 & 1.03 & 0.00 & 15.61 & 0.00 & 180.08 \\\\\n\\end{tabular}\n"
          },
          "metadata": {}
        }
      ],
      "source": [
        "cph_g1 = CoxPHFitter().fit(df_g, duration_col= \"duration\", event_col=\"observed\")\n",
        "cph_g1.print_summary()"
      ]
    },
    {
      "cell_type": "code",
      "execution_count": 50,
      "metadata": {
        "id": "sV_n-c8PYe5e",
        "outputId": "7758f705-f31e-49dc-e6b1-115c964709d8",
        "colab": {
          "base_uri": "https://localhost:8080/"
        }
      },
      "outputs": [
        {
          "output_type": "execute_result",
          "data": {
            "text/plain": [
              "covariate\n",
              "patient    0.000113\n",
              "age        0.002534\n",
              "height    -0.298400\n",
              "woman     -0.109780\n",
              "weight     0.022212\n",
              "Name: coef, dtype: float64"
            ]
          },
          "metadata": {},
          "execution_count": 50
        }
      ],
      "source": [
        "cph_g1.params_"
      ]
    },
    {
      "cell_type": "code",
      "execution_count": 51,
      "metadata": {
        "id": "bG6ZRiBVYe5g",
        "outputId": "8b57f627-e802-43dc-a87f-03d318261bf6",
        "colab": {
          "base_uri": "https://localhost:8080/",
          "height": 631
        }
      },
      "outputs": [
        {
          "output_type": "display_data",
          "data": {
            "text/plain": [
              "<lifelines.CoxPHFitter: fitted with 4890 total observations, 954 right-censored observations>\n",
              "             duration col = 'duration'\n",
              "                event col = 'observed'\n",
              "              cluster col = 'patient'\n",
              "          robust variance = True\n",
              "      baseline estimation = breslow\n",
              "   number of observations = 4890\n",
              "number of events observed = 3936\n",
              "   partial log-likelihood = -29571.03\n",
              "         time fit was run = 2023-07-25 21:23:51 UTC\n",
              "\n",
              "---\n",
              "            coef  exp(coef)   se(coef)   coef lower 95%   coef upper 95%  exp(coef) lower 95%  exp(coef) upper 95%\n",
              "covariate                                                                                                         \n",
              "age         0.00       1.00       0.00            -0.00             0.01                 1.00                 1.01\n",
              "height     -0.30       0.74       0.16            -0.61             0.01                 0.54                 1.01\n",
              "woman      -0.11       0.89       0.03            -0.18            -0.04                 0.84                 0.96\n",
              "weight      0.02       1.02       0.00             0.02             0.03                 1.02                 1.03\n",
              "\n",
              "            cmp to     z      p   -log2(p)\n",
              "covariate                                 \n",
              "age           0.00  1.40   0.16       2.63\n",
              "height        0.00 -1.91   0.06       4.15\n",
              "woman         0.00 -3.22 <0.005       9.63\n",
              "weight        0.00 14.60 <0.005     158.03\n",
              "---\n",
              "Concordance = 0.62\n",
              "Partial AIC = 59150.07\n",
              "log-likelihood ratio test = 658.14 on 4 df\n",
              "-log2(p) of ll-ratio test = 466.38"
            ],
            "text/html": [
              "<div>\n",
              "<style scoped>\n",
              "    .dataframe tbody tr th:only-of-type {\n",
              "        vertical-align: middle;\n",
              "    }\n",
              "\n",
              "    .dataframe tbody tr th {\n",
              "        vertical-align: top;\n",
              "    }\n",
              "\n",
              "    .dataframe thead th {\n",
              "        text-align: right;\n",
              "    }\n",
              "</style>\n",
              "<table border=\"1\" class=\"dataframe\">\n",
              "  <tbody>\n",
              "    <tr>\n",
              "      <th>model</th>\n",
              "      <td>lifelines.CoxPHFitter</td>\n",
              "    </tr>\n",
              "    <tr>\n",
              "      <th>duration col</th>\n",
              "      <td>'duration'</td>\n",
              "    </tr>\n",
              "    <tr>\n",
              "      <th>event col</th>\n",
              "      <td>'observed'</td>\n",
              "    </tr>\n",
              "    <tr>\n",
              "      <th>cluster col</th>\n",
              "      <td>'patient'</td>\n",
              "    </tr>\n",
              "    <tr>\n",
              "      <th>robust variance</th>\n",
              "      <td>True</td>\n",
              "    </tr>\n",
              "    <tr>\n",
              "      <th>baseline estimation</th>\n",
              "      <td>breslow</td>\n",
              "    </tr>\n",
              "    <tr>\n",
              "      <th>number of observations</th>\n",
              "      <td>4890</td>\n",
              "    </tr>\n",
              "    <tr>\n",
              "      <th>number of events observed</th>\n",
              "      <td>3936</td>\n",
              "    </tr>\n",
              "    <tr>\n",
              "      <th>partial log-likelihood</th>\n",
              "      <td>-29571.03</td>\n",
              "    </tr>\n",
              "    <tr>\n",
              "      <th>time fit was run</th>\n",
              "      <td>2023-07-25 21:23:51 UTC</td>\n",
              "    </tr>\n",
              "  </tbody>\n",
              "</table>\n",
              "</div><table border=\"1\" class=\"dataframe\">\n",
              "  <thead>\n",
              "    <tr style=\"text-align: right;\">\n",
              "      <th style=\"min-width: 12px;\"></th>\n",
              "      <th style=\"min-width: 12px;\">coef</th>\n",
              "      <th style=\"min-width: 12px;\">exp(coef)</th>\n",
              "      <th style=\"min-width: 12px;\">se(coef)</th>\n",
              "      <th style=\"min-width: 12px;\">coef lower 95%</th>\n",
              "      <th style=\"min-width: 12px;\">coef upper 95%</th>\n",
              "      <th style=\"min-width: 12px;\">exp(coef) lower 95%</th>\n",
              "      <th style=\"min-width: 12px;\">exp(coef) upper 95%</th>\n",
              "      <th style=\"min-width: 12px;\">cmp to</th>\n",
              "      <th style=\"min-width: 12px;\">z</th>\n",
              "      <th style=\"min-width: 12px;\">p</th>\n",
              "      <th style=\"min-width: 12px;\">-log2(p)</th>\n",
              "    </tr>\n",
              "  </thead>\n",
              "  <tbody>\n",
              "    <tr>\n",
              "      <th>age</th>\n",
              "      <td>0.00</td>\n",
              "      <td>1.00</td>\n",
              "      <td>0.00</td>\n",
              "      <td>-0.00</td>\n",
              "      <td>0.01</td>\n",
              "      <td>1.00</td>\n",
              "      <td>1.01</td>\n",
              "      <td>0.00</td>\n",
              "      <td>1.40</td>\n",
              "      <td>0.16</td>\n",
              "      <td>2.63</td>\n",
              "    </tr>\n",
              "    <tr>\n",
              "      <th>height</th>\n",
              "      <td>-0.30</td>\n",
              "      <td>0.74</td>\n",
              "      <td>0.16</td>\n",
              "      <td>-0.61</td>\n",
              "      <td>0.01</td>\n",
              "      <td>0.54</td>\n",
              "      <td>1.01</td>\n",
              "      <td>0.00</td>\n",
              "      <td>-1.91</td>\n",
              "      <td>0.06</td>\n",
              "      <td>4.15</td>\n",
              "    </tr>\n",
              "    <tr>\n",
              "      <th>woman</th>\n",
              "      <td>-0.11</td>\n",
              "      <td>0.89</td>\n",
              "      <td>0.03</td>\n",
              "      <td>-0.18</td>\n",
              "      <td>-0.04</td>\n",
              "      <td>0.84</td>\n",
              "      <td>0.96</td>\n",
              "      <td>0.00</td>\n",
              "      <td>-3.22</td>\n",
              "      <td>&lt;0.005</td>\n",
              "      <td>9.63</td>\n",
              "    </tr>\n",
              "    <tr>\n",
              "      <th>weight</th>\n",
              "      <td>0.02</td>\n",
              "      <td>1.02</td>\n",
              "      <td>0.00</td>\n",
              "      <td>0.02</td>\n",
              "      <td>0.03</td>\n",
              "      <td>1.02</td>\n",
              "      <td>1.03</td>\n",
              "      <td>0.00</td>\n",
              "      <td>14.60</td>\n",
              "      <td>&lt;0.005</td>\n",
              "      <td>158.03</td>\n",
              "    </tr>\n",
              "  </tbody>\n",
              "</table><br><div>\n",
              "<style scoped>\n",
              "    .dataframe tbody tr th:only-of-type {\n",
              "        vertical-align: middle;\n",
              "    }\n",
              "\n",
              "    .dataframe tbody tr th {\n",
              "        vertical-align: top;\n",
              "    }\n",
              "\n",
              "    .dataframe thead th {\n",
              "        text-align: right;\n",
              "    }\n",
              "</style>\n",
              "<table border=\"1\" class=\"dataframe\">\n",
              "  <tbody>\n",
              "    <tr>\n",
              "      <th>Concordance</th>\n",
              "      <td>0.62</td>\n",
              "    </tr>\n",
              "    <tr>\n",
              "      <th>Partial AIC</th>\n",
              "      <td>59150.07</td>\n",
              "    </tr>\n",
              "    <tr>\n",
              "      <th>log-likelihood ratio test</th>\n",
              "      <td>658.14 on 4 df</td>\n",
              "    </tr>\n",
              "    <tr>\n",
              "      <th>-log2(p) of ll-ratio test</th>\n",
              "      <td>466.38</td>\n",
              "    </tr>\n",
              "  </tbody>\n",
              "</table>\n",
              "</div>"
            ],
            "text/latex": "\\begin{tabular}{lrrrrrrrrrrr}\n & coef & exp(coef) & se(coef) & coef lower 95% & coef upper 95% & exp(coef) lower 95% & exp(coef) upper 95% & cmp to & z & p & -log2(p) \\\\\ncovariate &  &  &  &  &  &  &  &  &  &  &  \\\\\nage & 0.00 & 1.00 & 0.00 & -0.00 & 0.01 & 1.00 & 1.01 & 0.00 & 1.40 & 0.16 & 2.63 \\\\\nheight & -0.30 & 0.74 & 0.16 & -0.61 & 0.01 & 0.54 & 1.01 & 0.00 & -1.91 & 0.06 & 4.15 \\\\\nwoman & -0.11 & 0.89 & 0.03 & -0.18 & -0.04 & 0.84 & 0.96 & 0.00 & -3.22 & 0.00 & 9.63 \\\\\nweight & 0.02 & 1.02 & 0.00 & 0.02 & 0.03 & 1.02 & 1.03 & 0.00 & 14.60 & 0.00 & 158.03 \\\\\n\\end{tabular}\n"
          },
          "metadata": {}
        }
      ],
      "source": [
        "#cluster column on patient\n",
        "cph_g2 = CoxPHFitter().fit(df_g, duration_col= \"duration\", event_col=\"observed\", cluster_col= 'patient')\n",
        "cph_g2.print_summary()"
      ]
    },
    {
      "cell_type": "code",
      "execution_count": 52,
      "metadata": {
        "id": "tnzIxPneYe5h",
        "outputId": "1a20df76-d060-46e7-d2bb-85cf9721c3c6",
        "colab": {
          "base_uri": "https://localhost:8080/"
        }
      },
      "outputs": [
        {
          "output_type": "execute_result",
          "data": {
            "text/plain": [
              "covariate\n",
              "age       0.002547\n",
              "height   -0.301391\n",
              "woman    -0.111683\n",
              "weight    0.022303\n",
              "Name: coef, dtype: float64"
            ]
          },
          "metadata": {},
          "execution_count": 52
        }
      ],
      "source": [
        "cph_g2.params_"
      ]
    },
    {
      "cell_type": "code",
      "execution_count": 53,
      "metadata": {
        "id": "vEJ0rYiNYe5k",
        "colab": {
          "base_uri": "https://localhost:8080/"
        },
        "outputId": "e7e21eb3-0332-48e6-c742-9362c28dde2e"
      },
      "outputs": [
        {
          "output_type": "stream",
          "name": "stdout",
          "text": [
            "#    patient  observed  duration  age    height  woman      weight\n",
            "# 0        0      True  0.000733   45  1.356927      0   56.493105\n",
            "# 1        0      True  0.526598   45  1.356927      0   56.493105\n",
            "# 2        0      True  0.072540   45  1.356927      0   56.493105\n",
            "# 3        0     False  0.270720   45  1.356927      0   56.493105\n",
            "# 4        1      True  0.000116   38  1.912660      0   65.265604\n",
            "# 5        1      True  0.019653   38  1.912660      0   65.265604\n",
            "# 6        1      True  0.096634   38  1.912660      0   65.265604\n",
            "# 7        1     False  0.192686   38  1.912660      0   65.265604\n",
            "# 8        2      True  0.003741   34  1.959194      0  114.580135\n",
            "# 9        2      True  0.104157   34  1.959194      0  114.580135\n"
          ]
        }
      ],
      "source": [
        "# example for small dataset\n",
        "prepend_print(df_g_small.head(10))\n",
        "\n"
      ]
    },
    {
      "cell_type": "code",
      "execution_count": 54,
      "metadata": {
        "id": "lKHO3so9Ye5l"
      },
      "outputs": [],
      "source": [
        "observation_g = \"\"\"\n",
        "My observation is: A higher hazard means more risk of an event occuring. THe hazard ratio is the exponential of the\n",
        "coefficients. For the CoxPH model of cph_g1 which has no cluster fit, The coefficients for the women and Weight were\n",
        "0.90 and 1.02 respectively. This means the hazard ratio is high for these two factors. To practically explain, the\n",
        "likelihood of a woman in a certain weight category to come back after the first visit is high. This is further supported\n",
        "by the p values of both Weight and Woman which are <0.005. This means there is a statistically significant effect.\n",
        "\n",
        "for cph_g2 which has cluster fit parameter, the coefficient of woman slightly drops to 0.89 but the co efficient\n",
        "for weight remains constant. In this model however they still have significant effect on the hazard of visits as they\n",
        "both have p values <0.005\n",
        "\"\"\""
      ]
    },
    {
      "cell_type": "code",
      "execution_count": 55,
      "metadata": {
        "id": "M9vVnG9aYe5n",
        "colab": {
          "base_uri": "https://localhost:8080/"
        },
        "outputId": "09c8e3f0-ce3e-4580-8a3c-40fec8a4984a"
      },
      "outputs": [
        {
          "output_type": "stream",
          "name": "stdout",
          "text": [
            "\n",
            "My observation is: A higher hazard means more risk of an event occuring. THe hazard ratio is the exponential of the\n",
            "coefficients. For the CoxPH model of cph_g1 which has no cluster fit, The coefficients for the women and Weight were\n",
            "0.90 and 1.02 respectively. This means the hazard ratio is high for these two factors. To practically explain, the\n",
            "likelihood of a woman in a certain weight category to come back after the first visit is high. This is further supported\n",
            "by the p values of both Weight and Woman which are <0.005. This means there is a statistically significant effect.\n",
            "\n",
            "for cph_g2 which has cluster fit parameter, the coefficient of woman slightly drops to 0.89 but the co efficient\n",
            "for weight remains constant. In this model however they still have significant effect on the hazard of visits as they\n",
            "both have p values <0.005\n",
            "\n"
          ]
        }
      ],
      "source": [
        "print(observation_g)"
      ]
    },
    {
      "cell_type": "markdown",
      "metadata": {
        "id": "JHEynLgDYe5o"
      },
      "source": [
        "## Time varying covariates\n",
        "\n",
        "When looking at the data, you notice that the visits have an attached \"type\" property which indicates the kind of treatment that happened (0=diagnoses only, 1=treatment only, 2=diagnoses & treatment). Your common sense says that if a patient has been diagnosed but did not yet receive a treatment, he is more likely to return soon. So you hypothesize that `type=0` will strongly increase the hazard for that patient.\n",
        "\n",
        "\n",
        "So far we have only looked at the case where the covariates are constant over the observation period. In order to account for the type of visit, this needs to change.\n",
        "\n",
        "In `lifelines` time varying covariates are encoded using the \"long\" format (see [documentation](https://lifelines.readthedocs.io/en/latest/Time%20varying%20survival%20regression.html)). In the long format information is encoded in a start and stop time. During this timespan it is assumed, that the covariates are constant.\n",
        "\n",
        "\n",
        "We thus need to encode our point process data in the long format (i.e. denote the start and stop) and We also associate each timespan with the type of the starting event. This is done in ther function `prepare_analysis_long`.\n",
        "Then join this long format data with the patient information and fit a time varying CoxPH model (`cox_h`) to the data.\n",
        "\n"
      ]
    },
    {
      "cell_type": "code",
      "execution_count": 56,
      "metadata": {
        "id": "_PdXtvKtYe5p"
      },
      "outputs": [],
      "source": [
        "from lifelines import CoxTimeVaryingFitter"
      ]
    },
    {
      "cell_type": "code",
      "execution_count": 57,
      "metadata": {
        "id": "jo-kel6zYe5q"
      },
      "outputs": [],
      "source": [
        "def prepare_analysis_long(df_time : pd.DataFrame, max_t : float) -> pd.DataFrame:\n",
        "    def filter_analysislong(x):\n",
        "        return x[\"time\"] <= max_t\n",
        "\n",
        "    #sort dataframe\n",
        "    sorted_long = df_time.sort_values([\"patient\", \"time\"])\n",
        "\n",
        "    #apply filter\n",
        "    filtered_long = sorted_long.groupby([\"patient\", \"time\"]).filter(filter_analysislong)\n",
        "\n",
        "    #reset index\n",
        "    filtered_long = filtered_long.reset_index()\n",
        "\n",
        "    #create df\n",
        "\n",
        "    filtered_long[\"stop\"] = filtered_long.groupby(\"patient\")[\"time\"].shift(-1)\n",
        "    filtered_long[\"observed\"] = filtered_long[\"stop\"].notna()\n",
        "    filtered_long[\"stop\"] = filtered_long[\"stop\"].fillna(max_t)\n",
        "    filtered_long = filtered_long.rename(columns={'time': 'start'})\n",
        "\n",
        "\n",
        "    return pd.DataFrame(filtered_long, columns=[\"patient\", \"start\", \"stop\", \"observed\", \"type\"])"
      ]
    },
    {
      "cell_type": "code",
      "execution_count": 58,
      "metadata": {
        "id": "HZoJFYE9Ye5r",
        "colab": {
          "base_uri": "https://localhost:8080/"
        },
        "outputId": "6faf4699-d84d-4beb-94b0-c8302db7a29d"
      },
      "outputs": [
        {
          "output_type": "stream",
          "name": "stdout",
          "text": [
            "#    patient     start      stop  observed  type\n",
            "# 0        0  0.329409  0.330142      True   2.0\n",
            "# 1        0  0.330142  0.856740      True   2.0\n",
            "# 2        0  0.856740  0.929280      True   0.0\n",
            "# 3        0  0.929280  1.200000     False   1.0\n",
            "# 4        1  0.890911  0.891027      True   0.0\n",
            "# 5        1  0.891027  0.910681      True   1.0\n",
            "# 6        1  0.910681  1.007314      True   0.0\n",
            "# 7        1  1.007314  1.200000     False   1.0\n",
            "# 8        2  0.031050  0.034792      True   2.0\n",
            "# 9        2  0.034792  0.138949      True   2.0\n"
          ]
        }
      ],
      "source": [
        "df_long_small = prepare_analysis_long(visits_small, 1.2)\n",
        "prepend_print(df_long_small.head(10))\n"
      ]
    },
    {
      "cell_type": "code",
      "execution_count": 60,
      "metadata": {
        "id": "0zi7ZZG_Ye5s"
      },
      "outputs": [],
      "source": [
        "all_fl_long = prepare_analysis_long(visits_large,1.2)\n",
        "#all_fl_long"
      ]
    },
    {
      "cell_type": "code",
      "execution_count": 61,
      "metadata": {
        "id": "pYFMAnHpYe5u",
        "colab": {
          "base_uri": "https://localhost:8080/",
          "height": 424
        },
        "outputId": "720c516e-38a0-48b0-bb02-a9a1fe7bebd0"
      },
      "outputs": [
        {
          "output_type": "execute_result",
          "data": {
            "text/plain": [
              "      patient     start      stop  observed  type  age    height  woman  \\\n",
              "0           0  0.329409  0.330142      True   2.0   45  1.356927      0   \n",
              "1           0  0.330142  0.856740      True   2.0   45  1.356927      0   \n",
              "2           0  0.856740  0.929280      True   0.0   45  1.356927      0   \n",
              "3           0  0.929280  1.200000     False   1.0   45  1.356927      0   \n",
              "4           1  0.890911  0.891027      True   0.0   38  1.912660      0   \n",
              "...       ...       ...       ...       ...   ...  ...       ...    ...   \n",
              "4885      997  0.984709  1.200000     False   1.0   31  1.946294      0   \n",
              "4886      998  0.548957  0.970227      True   2.0   24  1.835519      0   \n",
              "4887      998  0.970227  1.165781      True   2.0   24  1.835519      0   \n",
              "4888      998  1.165781  1.200000     False   2.0   24  1.835519      0   \n",
              "4889      999  1.130503  1.200000     False   2.0   44  1.571393      0   \n",
              "\n",
              "         weight  \n",
              "0     56.493105  \n",
              "1     56.493105  \n",
              "2     56.493105  \n",
              "3     56.493105  \n",
              "4     65.265604  \n",
              "...         ...  \n",
              "4885  65.714050  \n",
              "4886  67.069732  \n",
              "4887  67.069732  \n",
              "4888  67.069732  \n",
              "4889  52.366957  \n",
              "\n",
              "[4890 rows x 9 columns]"
            ],
            "text/html": [
              "\n",
              "\n",
              "  <div id=\"df-ed78ae19-c1f6-4ff3-9e7f-19f141ab0d93\">\n",
              "    <div class=\"colab-df-container\">\n",
              "      <div>\n",
              "<style scoped>\n",
              "    .dataframe tbody tr th:only-of-type {\n",
              "        vertical-align: middle;\n",
              "    }\n",
              "\n",
              "    .dataframe tbody tr th {\n",
              "        vertical-align: top;\n",
              "    }\n",
              "\n",
              "    .dataframe thead th {\n",
              "        text-align: right;\n",
              "    }\n",
              "</style>\n",
              "<table border=\"1\" class=\"dataframe\">\n",
              "  <thead>\n",
              "    <tr style=\"text-align: right;\">\n",
              "      <th></th>\n",
              "      <th>patient</th>\n",
              "      <th>start</th>\n",
              "      <th>stop</th>\n",
              "      <th>observed</th>\n",
              "      <th>type</th>\n",
              "      <th>age</th>\n",
              "      <th>height</th>\n",
              "      <th>woman</th>\n",
              "      <th>weight</th>\n",
              "    </tr>\n",
              "  </thead>\n",
              "  <tbody>\n",
              "    <tr>\n",
              "      <th>0</th>\n",
              "      <td>0</td>\n",
              "      <td>0.329409</td>\n",
              "      <td>0.330142</td>\n",
              "      <td>True</td>\n",
              "      <td>2.0</td>\n",
              "      <td>45</td>\n",
              "      <td>1.356927</td>\n",
              "      <td>0</td>\n",
              "      <td>56.493105</td>\n",
              "    </tr>\n",
              "    <tr>\n",
              "      <th>1</th>\n",
              "      <td>0</td>\n",
              "      <td>0.330142</td>\n",
              "      <td>0.856740</td>\n",
              "      <td>True</td>\n",
              "      <td>2.0</td>\n",
              "      <td>45</td>\n",
              "      <td>1.356927</td>\n",
              "      <td>0</td>\n",
              "      <td>56.493105</td>\n",
              "    </tr>\n",
              "    <tr>\n",
              "      <th>2</th>\n",
              "      <td>0</td>\n",
              "      <td>0.856740</td>\n",
              "      <td>0.929280</td>\n",
              "      <td>True</td>\n",
              "      <td>0.0</td>\n",
              "      <td>45</td>\n",
              "      <td>1.356927</td>\n",
              "      <td>0</td>\n",
              "      <td>56.493105</td>\n",
              "    </tr>\n",
              "    <tr>\n",
              "      <th>3</th>\n",
              "      <td>0</td>\n",
              "      <td>0.929280</td>\n",
              "      <td>1.200000</td>\n",
              "      <td>False</td>\n",
              "      <td>1.0</td>\n",
              "      <td>45</td>\n",
              "      <td>1.356927</td>\n",
              "      <td>0</td>\n",
              "      <td>56.493105</td>\n",
              "    </tr>\n",
              "    <tr>\n",
              "      <th>4</th>\n",
              "      <td>1</td>\n",
              "      <td>0.890911</td>\n",
              "      <td>0.891027</td>\n",
              "      <td>True</td>\n",
              "      <td>0.0</td>\n",
              "      <td>38</td>\n",
              "      <td>1.912660</td>\n",
              "      <td>0</td>\n",
              "      <td>65.265604</td>\n",
              "    </tr>\n",
              "    <tr>\n",
              "      <th>...</th>\n",
              "      <td>...</td>\n",
              "      <td>...</td>\n",
              "      <td>...</td>\n",
              "      <td>...</td>\n",
              "      <td>...</td>\n",
              "      <td>...</td>\n",
              "      <td>...</td>\n",
              "      <td>...</td>\n",
              "      <td>...</td>\n",
              "    </tr>\n",
              "    <tr>\n",
              "      <th>4885</th>\n",
              "      <td>997</td>\n",
              "      <td>0.984709</td>\n",
              "      <td>1.200000</td>\n",
              "      <td>False</td>\n",
              "      <td>1.0</td>\n",
              "      <td>31</td>\n",
              "      <td>1.946294</td>\n",
              "      <td>0</td>\n",
              "      <td>65.714050</td>\n",
              "    </tr>\n",
              "    <tr>\n",
              "      <th>4886</th>\n",
              "      <td>998</td>\n",
              "      <td>0.548957</td>\n",
              "      <td>0.970227</td>\n",
              "      <td>True</td>\n",
              "      <td>2.0</td>\n",
              "      <td>24</td>\n",
              "      <td>1.835519</td>\n",
              "      <td>0</td>\n",
              "      <td>67.069732</td>\n",
              "    </tr>\n",
              "    <tr>\n",
              "      <th>4887</th>\n",
              "      <td>998</td>\n",
              "      <td>0.970227</td>\n",
              "      <td>1.165781</td>\n",
              "      <td>True</td>\n",
              "      <td>2.0</td>\n",
              "      <td>24</td>\n",
              "      <td>1.835519</td>\n",
              "      <td>0</td>\n",
              "      <td>67.069732</td>\n",
              "    </tr>\n",
              "    <tr>\n",
              "      <th>4888</th>\n",
              "      <td>998</td>\n",
              "      <td>1.165781</td>\n",
              "      <td>1.200000</td>\n",
              "      <td>False</td>\n",
              "      <td>2.0</td>\n",
              "      <td>24</td>\n",
              "      <td>1.835519</td>\n",
              "      <td>0</td>\n",
              "      <td>67.069732</td>\n",
              "    </tr>\n",
              "    <tr>\n",
              "      <th>4889</th>\n",
              "      <td>999</td>\n",
              "      <td>1.130503</td>\n",
              "      <td>1.200000</td>\n",
              "      <td>False</td>\n",
              "      <td>2.0</td>\n",
              "      <td>44</td>\n",
              "      <td>1.571393</td>\n",
              "      <td>0</td>\n",
              "      <td>52.366957</td>\n",
              "    </tr>\n",
              "  </tbody>\n",
              "</table>\n",
              "<p>4890 rows × 9 columns</p>\n",
              "</div>\n",
              "      <button class=\"colab-df-convert\" onclick=\"convertToInteractive('df-ed78ae19-c1f6-4ff3-9e7f-19f141ab0d93')\"\n",
              "              title=\"Convert this dataframe to an interactive table.\"\n",
              "              style=\"display:none;\">\n",
              "\n",
              "  <svg xmlns=\"http://www.w3.org/2000/svg\" height=\"24px\"viewBox=\"0 0 24 24\"\n",
              "       width=\"24px\">\n",
              "    <path d=\"M0 0h24v24H0V0z\" fill=\"none\"/>\n",
              "    <path d=\"M18.56 5.44l.94 2.06.94-2.06 2.06-.94-2.06-.94-.94-2.06-.94 2.06-2.06.94zm-11 1L8.5 8.5l.94-2.06 2.06-.94-2.06-.94L8.5 2.5l-.94 2.06-2.06.94zm10 10l.94 2.06.94-2.06 2.06-.94-2.06-.94-.94-2.06-.94 2.06-2.06.94z\"/><path d=\"M17.41 7.96l-1.37-1.37c-.4-.4-.92-.59-1.43-.59-.52 0-1.04.2-1.43.59L10.3 9.45l-7.72 7.72c-.78.78-.78 2.05 0 2.83L4 21.41c.39.39.9.59 1.41.59.51 0 1.02-.2 1.41-.59l7.78-7.78 2.81-2.81c.8-.78.8-2.07 0-2.86zM5.41 20L4 18.59l7.72-7.72 1.47 1.35L5.41 20z\"/>\n",
              "  </svg>\n",
              "      </button>\n",
              "\n",
              "\n",
              "\n",
              "    <div id=\"df-15941bc0-1e1b-4c0f-a5c6-b8e81cd3ab59\">\n",
              "      <button class=\"colab-df-quickchart\" onclick=\"quickchart('df-15941bc0-1e1b-4c0f-a5c6-b8e81cd3ab59')\"\n",
              "              title=\"Suggest charts.\"\n",
              "              style=\"display:none;\">\n",
              "\n",
              "<svg xmlns=\"http://www.w3.org/2000/svg\" height=\"24px\"viewBox=\"0 0 24 24\"\n",
              "     width=\"24px\">\n",
              "    <g>\n",
              "        <path d=\"M19 3H5c-1.1 0-2 .9-2 2v14c0 1.1.9 2 2 2h14c1.1 0 2-.9 2-2V5c0-1.1-.9-2-2-2zM9 17H7v-7h2v7zm4 0h-2V7h2v10zm4 0h-2v-4h2v4z\"/>\n",
              "    </g>\n",
              "</svg>\n",
              "      </button>\n",
              "    </div>\n",
              "\n",
              "<style>\n",
              "  .colab-df-quickchart {\n",
              "    background-color: #E8F0FE;\n",
              "    border: none;\n",
              "    border-radius: 50%;\n",
              "    cursor: pointer;\n",
              "    display: none;\n",
              "    fill: #1967D2;\n",
              "    height: 32px;\n",
              "    padding: 0 0 0 0;\n",
              "    width: 32px;\n",
              "  }\n",
              "\n",
              "  .colab-df-quickchart:hover {\n",
              "    background-color: #E2EBFA;\n",
              "    box-shadow: 0px 1px 2px rgba(60, 64, 67, 0.3), 0px 1px 3px 1px rgba(60, 64, 67, 0.15);\n",
              "    fill: #174EA6;\n",
              "  }\n",
              "\n",
              "  [theme=dark] .colab-df-quickchart {\n",
              "    background-color: #3B4455;\n",
              "    fill: #D2E3FC;\n",
              "  }\n",
              "\n",
              "  [theme=dark] .colab-df-quickchart:hover {\n",
              "    background-color: #434B5C;\n",
              "    box-shadow: 0px 1px 3px 1px rgba(0, 0, 0, 0.15);\n",
              "    filter: drop-shadow(0px 1px 2px rgba(0, 0, 0, 0.3));\n",
              "    fill: #FFFFFF;\n",
              "  }\n",
              "</style>\n",
              "\n",
              "    <script>\n",
              "      async function quickchart(key) {\n",
              "        const containerElement = document.querySelector('#' + key);\n",
              "        const charts = await google.colab.kernel.invokeFunction(\n",
              "            'suggestCharts', [key], {});\n",
              "      }\n",
              "    </script>\n",
              "\n",
              "      <script>\n",
              "\n",
              "function displayQuickchartButton(domScope) {\n",
              "  let quickchartButtonEl =\n",
              "    domScope.querySelector('#df-15941bc0-1e1b-4c0f-a5c6-b8e81cd3ab59 button.colab-df-quickchart');\n",
              "  quickchartButtonEl.style.display =\n",
              "    google.colab.kernel.accessAllowed ? 'block' : 'none';\n",
              "}\n",
              "\n",
              "        displayQuickchartButton(document);\n",
              "      </script>\n",
              "      <style>\n",
              "    .colab-df-container {\n",
              "      display:flex;\n",
              "      flex-wrap:wrap;\n",
              "      gap: 12px;\n",
              "    }\n",
              "\n",
              "    .colab-df-convert {\n",
              "      background-color: #E8F0FE;\n",
              "      border: none;\n",
              "      border-radius: 50%;\n",
              "      cursor: pointer;\n",
              "      display: none;\n",
              "      fill: #1967D2;\n",
              "      height: 32px;\n",
              "      padding: 0 0 0 0;\n",
              "      width: 32px;\n",
              "    }\n",
              "\n",
              "    .colab-df-convert:hover {\n",
              "      background-color: #E2EBFA;\n",
              "      box-shadow: 0px 1px 2px rgba(60, 64, 67, 0.3), 0px 1px 3px 1px rgba(60, 64, 67, 0.15);\n",
              "      fill: #174EA6;\n",
              "    }\n",
              "\n",
              "    [theme=dark] .colab-df-convert {\n",
              "      background-color: #3B4455;\n",
              "      fill: #D2E3FC;\n",
              "    }\n",
              "\n",
              "    [theme=dark] .colab-df-convert:hover {\n",
              "      background-color: #434B5C;\n",
              "      box-shadow: 0px 1px 3px 1px rgba(0, 0, 0, 0.15);\n",
              "      filter: drop-shadow(0px 1px 2px rgba(0, 0, 0, 0.3));\n",
              "      fill: #FFFFFF;\n",
              "    }\n",
              "  </style>\n",
              "\n",
              "      <script>\n",
              "        const buttonEl =\n",
              "          document.querySelector('#df-ed78ae19-c1f6-4ff3-9e7f-19f141ab0d93 button.colab-df-convert');\n",
              "        buttonEl.style.display =\n",
              "          google.colab.kernel.accessAllowed ? 'block' : 'none';\n",
              "\n",
              "        async function convertToInteractive(key) {\n",
              "          const element = document.querySelector('#df-ed78ae19-c1f6-4ff3-9e7f-19f141ab0d93');\n",
              "          const dataTable =\n",
              "            await google.colab.kernel.invokeFunction('convertToInteractive',\n",
              "                                                     [key], {});\n",
              "          if (!dataTable) return;\n",
              "\n",
              "          const docLinkHtml = 'Like what you see? Visit the ' +\n",
              "            '<a target=\"_blank\" href=https://colab.research.google.com/notebooks/data_table.ipynb>data table notebook</a>'\n",
              "            + ' to learn more about interactive tables.';\n",
              "          element.innerHTML = '';\n",
              "          dataTable['output_type'] = 'display_data';\n",
              "          await google.colab.output.renderOutput(dataTable, element);\n",
              "          const docLink = document.createElement('div');\n",
              "          docLink.innerHTML = docLinkHtml;\n",
              "          element.appendChild(docLink);\n",
              "        }\n",
              "      </script>\n",
              "    </div>\n",
              "  </div>\n"
            ]
          },
          "metadata": {},
          "execution_count": 61
        }
      ],
      "source": [
        "df_fit= pd.merge(all_fl_long, patients_large, left_on= \"patient\", right_index=True)\n"
      ]
    },
    {
      "cell_type": "code",
      "execution_count": 63,
      "metadata": {
        "id": "Z9FyjfKj-DOg"
      },
      "outputs": [],
      "source": [
        "df_fit= pd.merge(all_fl_long, patients_large, left_on= \"patient\", right_index=True)\n"
      ]
    },
    {
      "cell_type": "code",
      "execution_count": 64,
      "metadata": {
        "id": "yUGrva-4Ye5v"
      },
      "outputs": [],
      "source": [
        "df_fit_small = df_fit[df_fit[\"patient\"]<= 10]"
      ]
    },
    {
      "cell_type": "code",
      "execution_count": 65,
      "metadata": {
        "id": "9xeoJkXWYe5w",
        "colab": {
          "base_uri": "https://localhost:8080/"
        },
        "outputId": "a52a59c5-fe39-456f-87e4-8cfc860513ca"
      },
      "outputs": [
        {
          "output_type": "stream",
          "name": "stdout",
          "text": [
            "#    patient     start      stop  observed  type  age    height  woman  \\\n",
            "# 0        0  0.329409  0.330142      True   2.0   45  1.356927      0   \n",
            "# 1        0  0.330142  0.856740      True   2.0   45  1.356927      0   \n",
            "# 2        0  0.856740  0.929280      True   0.0   45  1.356927      0   \n",
            "# 3        0  0.929280  1.200000     False   1.0   45  1.356927      0   \n",
            "# 4        1  0.890911  0.891027      True   0.0   38  1.912660      0   \n",
            "# 5        1  0.891027  0.910681      True   1.0   38  1.912660      0   \n",
            "# 6        1  0.910681  1.007314      True   0.0   38  1.912660      0   \n",
            "# 7        1  1.007314  1.200000     False   1.0   38  1.912660      0   \n",
            "# 8        2  0.031050  0.034792      True   2.0   34  1.959194      0   \n",
            "# 9        2  0.034792  0.138949      True   2.0   34  1.959194      0   \n",
            "# \n",
            "#        weight  \n",
            "# 0   56.493105  \n",
            "# 1   56.493105  \n",
            "# 2   56.493105  \n",
            "# 3   56.493105  \n",
            "# 4   65.265604  \n",
            "# 5   65.265604  \n",
            "# 6   65.265604  \n",
            "# 7   65.265604  \n",
            "# 8  114.580135  \n",
            "# 9  114.580135  \n"
          ]
        }
      ],
      "source": [
        "prepend_print(df_fit_small.head(10))\n"
      ]
    },
    {
      "cell_type": "code",
      "execution_count": 66,
      "metadata": {
        "id": "3Fk5Em6TYe5x",
        "colab": {
          "base_uri": "https://localhost:8080/"
        },
        "outputId": "e015a764-d056-474a-ca4a-1cd371b81f23"
      },
      "outputs": [
        {
          "output_type": "stream",
          "name": "stdout",
          "text": [
            "Iteration 1: norm_delta = 0.51718, step_size = 0.95000, ll = -26154.01084, newton_decrement = 568.28967, seconds_since_start = 2.9\n",
            "Iteration 2: norm_delta = 0.04172, step_size = 0.95000, ll = -25621.10105, newton_decrement = 3.36910, seconds_since_start = 4.5\n",
            "Iteration 3: norm_delta = 0.00252, step_size = 0.95000, ll = -25617.71596, newton_decrement = 0.01314, seconds_since_start = 6.7\n",
            "Iteration 4: norm_delta = 0.00013, step_size = 1.00000, ll = -25617.70284, newton_decrement = 0.00003, seconds_since_start = 8.0\n",
            "Iteration 5: norm_delta = 0.00000, step_size = 1.00000, ll = -25617.70281, newton_decrement = 0.00000, seconds_since_start = 9.2\n",
            "Convergence completed after 5 iterations.\n"
          ]
        },
        {
          "output_type": "execute_result",
          "data": {
            "text/plain": [
              "<lifelines.CoxTimeVaryingFitter: fitted with 4890 periods, 954 subjects, 3936 events>"
            ]
          },
          "metadata": {},
          "execution_count": 66
        }
      ],
      "source": [
        "cox_h = CoxTimeVaryingFitter(penalizer=0.1)\n",
        "cox_h.fit(df_fit, id_col= 'patient', event_col= 'observed', start_col = 'start', stop_col = 'stop', show_progress = True)"
      ]
    },
    {
      "cell_type": "code",
      "execution_count": 67,
      "metadata": {
        "id": "_Z1_ot8DYe5y",
        "colab": {
          "base_uri": "https://localhost:8080/",
          "height": 568
        },
        "outputId": "787862a2-c21f-4fe4-832c-e1d36d585ec3"
      },
      "outputs": [
        {
          "output_type": "display_data",
          "data": {
            "text/plain": [
              "<lifelines.CoxTimeVaryingFitter: fitted with 4890 periods, 954 subjects, 3936 events>\n",
              "         event col = 'observed'\n",
              "         penalizer = 0.1\n",
              "number of subjects = 954\n",
              " number of periods = 4890\n",
              "  number of events = 3936\n",
              "partial log-likelihood = -25617.70\n",
              "  time fit was run = 2023-07-25 21:35:25 UTC\n",
              "\n",
              "---\n",
              "            coef  exp(coef)   se(coef)   coef lower 95%   coef upper 95%  exp(coef) lower 95%  exp(coef) upper 95%\n",
              "covariate                                                                                                         \n",
              "type       -0.41       0.66       0.02            -0.45            -0.37                 0.64                 0.69\n",
              "age         0.00       1.00       0.00            -0.00             0.01                 1.00                 1.01\n",
              "height      0.21       1.24       0.11            -0.01             0.43                 0.99                 1.54\n",
              "woman      -0.13       0.88       0.03            -0.19            -0.06                 0.83                 0.94\n",
              "weight      0.02       1.02       0.00             0.02             0.02                 1.02                 1.02\n",
              "\n",
              "            cmp to      z      p   -log2(p)\n",
              "covariate                                  \n",
              "type          0.00 -20.64 <0.005     311.90\n",
              "age           0.00   1.31   0.19       2.40\n",
              "height        0.00   1.88   0.06       4.07\n",
              "woman         0.00  -3.94 <0.005      13.59\n",
              "weight        0.00  15.85 <0.005     185.44\n",
              "---\n",
              "Partial AIC = 51245.41\n",
              "log-likelihood ratio test = 1072.62 on 5 df\n",
              "-log2(p) of ll-ratio test = 760.54"
            ],
            "text/html": [
              "<div>\n",
              "<style scoped>\n",
              "    .dataframe tbody tr th:only-of-type {\n",
              "        vertical-align: middle;\n",
              "    }\n",
              "\n",
              "    .dataframe tbody tr th {\n",
              "        vertical-align: top;\n",
              "    }\n",
              "\n",
              "    .dataframe thead th {\n",
              "        text-align: right;\n",
              "    }\n",
              "</style>\n",
              "<table border=\"1\" class=\"dataframe\">\n",
              "  <tbody>\n",
              "    <tr>\n",
              "      <th>model</th>\n",
              "      <td>lifelines.CoxTimeVaryingFitter</td>\n",
              "    </tr>\n",
              "    <tr>\n",
              "      <th>event col</th>\n",
              "      <td>'observed'</td>\n",
              "    </tr>\n",
              "    <tr>\n",
              "      <th>penalizer</th>\n",
              "      <td>0.1</td>\n",
              "    </tr>\n",
              "    <tr>\n",
              "      <th>number of subjects</th>\n",
              "      <td>954</td>\n",
              "    </tr>\n",
              "    <tr>\n",
              "      <th>number of periods</th>\n",
              "      <td>4890</td>\n",
              "    </tr>\n",
              "    <tr>\n",
              "      <th>number of events</th>\n",
              "      <td>3936</td>\n",
              "    </tr>\n",
              "    <tr>\n",
              "      <th>partial log-likelihood</th>\n",
              "      <td>-25617.70</td>\n",
              "    </tr>\n",
              "    <tr>\n",
              "      <th>time fit was run</th>\n",
              "      <td>2023-07-25 21:35:25 UTC</td>\n",
              "    </tr>\n",
              "  </tbody>\n",
              "</table>\n",
              "</div><table border=\"1\" class=\"dataframe\">\n",
              "  <thead>\n",
              "    <tr style=\"text-align: right;\">\n",
              "      <th style=\"min-width: 12px;\"></th>\n",
              "      <th style=\"min-width: 12px;\">coef</th>\n",
              "      <th style=\"min-width: 12px;\">exp(coef)</th>\n",
              "      <th style=\"min-width: 12px;\">se(coef)</th>\n",
              "      <th style=\"min-width: 12px;\">coef lower 95%</th>\n",
              "      <th style=\"min-width: 12px;\">coef upper 95%</th>\n",
              "      <th style=\"min-width: 12px;\">exp(coef) lower 95%</th>\n",
              "      <th style=\"min-width: 12px;\">exp(coef) upper 95%</th>\n",
              "      <th style=\"min-width: 12px;\">cmp to</th>\n",
              "      <th style=\"min-width: 12px;\">z</th>\n",
              "      <th style=\"min-width: 12px;\">p</th>\n",
              "      <th style=\"min-width: 12px;\">-log2(p)</th>\n",
              "    </tr>\n",
              "  </thead>\n",
              "  <tbody>\n",
              "    <tr>\n",
              "      <th>type</th>\n",
              "      <td>-0.41</td>\n",
              "      <td>0.66</td>\n",
              "      <td>0.02</td>\n",
              "      <td>-0.45</td>\n",
              "      <td>-0.37</td>\n",
              "      <td>0.64</td>\n",
              "      <td>0.69</td>\n",
              "      <td>0.00</td>\n",
              "      <td>-20.64</td>\n",
              "      <td>&lt;0.005</td>\n",
              "      <td>311.90</td>\n",
              "    </tr>\n",
              "    <tr>\n",
              "      <th>age</th>\n",
              "      <td>0.00</td>\n",
              "      <td>1.00</td>\n",
              "      <td>0.00</td>\n",
              "      <td>-0.00</td>\n",
              "      <td>0.01</td>\n",
              "      <td>1.00</td>\n",
              "      <td>1.01</td>\n",
              "      <td>0.00</td>\n",
              "      <td>1.31</td>\n",
              "      <td>0.19</td>\n",
              "      <td>2.40</td>\n",
              "    </tr>\n",
              "    <tr>\n",
              "      <th>height</th>\n",
              "      <td>0.21</td>\n",
              "      <td>1.24</td>\n",
              "      <td>0.11</td>\n",
              "      <td>-0.01</td>\n",
              "      <td>0.43</td>\n",
              "      <td>0.99</td>\n",
              "      <td>1.54</td>\n",
              "      <td>0.00</td>\n",
              "      <td>1.88</td>\n",
              "      <td>0.06</td>\n",
              "      <td>4.07</td>\n",
              "    </tr>\n",
              "    <tr>\n",
              "      <th>woman</th>\n",
              "      <td>-0.13</td>\n",
              "      <td>0.88</td>\n",
              "      <td>0.03</td>\n",
              "      <td>-0.19</td>\n",
              "      <td>-0.06</td>\n",
              "      <td>0.83</td>\n",
              "      <td>0.94</td>\n",
              "      <td>0.00</td>\n",
              "      <td>-3.94</td>\n",
              "      <td>&lt;0.005</td>\n",
              "      <td>13.59</td>\n",
              "    </tr>\n",
              "    <tr>\n",
              "      <th>weight</th>\n",
              "      <td>0.02</td>\n",
              "      <td>1.02</td>\n",
              "      <td>0.00</td>\n",
              "      <td>0.02</td>\n",
              "      <td>0.02</td>\n",
              "      <td>1.02</td>\n",
              "      <td>1.02</td>\n",
              "      <td>0.00</td>\n",
              "      <td>15.85</td>\n",
              "      <td>&lt;0.005</td>\n",
              "      <td>185.44</td>\n",
              "    </tr>\n",
              "  </tbody>\n",
              "</table><br><div>\n",
              "<style scoped>\n",
              "    .dataframe tbody tr th:only-of-type {\n",
              "        vertical-align: middle;\n",
              "    }\n",
              "\n",
              "    .dataframe tbody tr th {\n",
              "        vertical-align: top;\n",
              "    }\n",
              "\n",
              "    .dataframe thead th {\n",
              "        text-align: right;\n",
              "    }\n",
              "</style>\n",
              "<table border=\"1\" class=\"dataframe\">\n",
              "  <tbody>\n",
              "    <tr>\n",
              "      <th>Partial AIC</th>\n",
              "      <td>51245.41</td>\n",
              "    </tr>\n",
              "    <tr>\n",
              "      <th>log-likelihood ratio test</th>\n",
              "      <td>1072.62 on 5 df</td>\n",
              "    </tr>\n",
              "    <tr>\n",
              "      <th>-log2(p) of ll-ratio test</th>\n",
              "      <td>760.54</td>\n",
              "    </tr>\n",
              "  </tbody>\n",
              "</table>\n",
              "</div>"
            ],
            "text/latex": "\\begin{tabular}{lrrrrrrrrrrr}\n & coef & exp(coef) & se(coef) & coef lower 95% & coef upper 95% & exp(coef) lower 95% & exp(coef) upper 95% & cmp to & z & p & -log2(p) \\\\\ncovariate &  &  &  &  &  &  &  &  &  &  &  \\\\\ntype & -0.41 & 0.66 & 0.02 & -0.45 & -0.37 & 0.64 & 0.69 & 0.00 & -20.64 & 0.00 & 311.90 \\\\\nage & 0.00 & 1.00 & 0.00 & -0.00 & 0.01 & 1.00 & 1.01 & 0.00 & 1.31 & 0.19 & 2.40 \\\\\nheight & 0.21 & 1.24 & 0.11 & -0.01 & 0.43 & 0.99 & 1.54 & 0.00 & 1.88 & 0.06 & 4.07 \\\\\nwoman & -0.13 & 0.88 & 0.03 & -0.19 & -0.06 & 0.83 & 0.94 & 0.00 & -3.94 & 0.00 & 13.59 \\\\\nweight & 0.02 & 1.02 & 0.00 & 0.02 & 0.02 & 1.02 & 1.02 & 0.00 & 15.85 & 0.00 & 185.44 \\\\\n\\end{tabular}\n"
          },
          "metadata": {}
        }
      ],
      "source": [
        "cox_h.print_summary()"
      ]
    },
    {
      "cell_type": "code",
      "execution_count": 68,
      "metadata": {
        "id": "Rg7mkmepYe5z",
        "colab": {
          "base_uri": "https://localhost:8080/"
        },
        "outputId": "513e3f04-9fc7-4b56-b336-04f134656b0a"
      },
      "outputs": [
        {
          "output_type": "execute_result",
          "data": {
            "text/plain": [
              "covariate\n",
              "type     -0.413194\n",
              "age       0.002126\n",
              "height    0.211224\n",
              "woman    -0.125867\n",
              "weight    0.017158\n",
              "dtype: float64"
            ]
          },
          "metadata": {},
          "execution_count": 68
        }
      ],
      "source": [
        "cox_h.params_"
      ]
    },
    {
      "cell_type": "code",
      "execution_count": 69,
      "metadata": {
        "id": "HwNpq-dJYe50"
      },
      "outputs": [],
      "source": [
        "answer_h = \"\"\"\n",
        "Does the data support your hypothesis?\n",
        "\n",
        "for the Coxvarying fitter model we can infer from the results that the type has a p value of <0.005 which is\n",
        "statistically significant. This means our hypothesis whixh states that type = 0 will strongly increase the\n",
        "hazard for that patient is true. In addition just like in previous models, The weight and the woman factor also\n",
        "significantly affect the hazard for the patient.\n",
        "\n",
        "\n",
        "\"\"\""
      ]
    },
    {
      "cell_type": "code",
      "execution_count": 70,
      "metadata": {
        "id": "LZ-I0SODYe52",
        "colab": {
          "base_uri": "https://localhost:8080/"
        },
        "outputId": "6e9233ec-82c9-4f03-d8a9-9d79e4b16826"
      },
      "outputs": [
        {
          "output_type": "stream",
          "name": "stdout",
          "text": [
            "\n",
            "Does the data support your hypothesis?\n",
            "\n",
            "for the Coxvarying fitter model we can infer from the results that the type has a p value of <0.005 which is\n",
            "statistically significant. This means our hypothesis whixh states that type = 0 will strongly increase the\n",
            "hazard for that patient is true. In addition just like in previous models, The weight and the woman factor also\n",
            "significantly affect the hazard for the patient.\n",
            "\n",
            "\n",
            "\n"
          ]
        }
      ],
      "source": [
        "print(answer_h)"
      ]
    },
    {
      "cell_type": "code",
      "execution_count": 71,
      "metadata": {
        "id": "pcxtYGPHYe53",
        "colab": {
          "base_uri": "https://localhost:8080/",
          "height": 466
        },
        "outputId": "245d73f3-c092-4750-913c-177d3d4912a9"
      },
      "outputs": [
        {
          "output_type": "execute_result",
          "data": {
            "text/plain": [
              "<Axes: xlabel='log(HR) (95% CI)'>"
            ]
          },
          "metadata": {},
          "execution_count": 71
        },
        {
          "output_type": "display_data",
          "data": {
            "text/plain": [
              "<Figure size 640x480 with 1 Axes>"
            ],
            "image/png": "[encoded data removed]"
          },
          "metadata": {}
        }
      ],
      "source": [
        "cox_h.plot()"
      ]
    }
  ]
}